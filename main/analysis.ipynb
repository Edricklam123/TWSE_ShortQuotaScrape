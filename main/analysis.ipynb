{
 "cells": [
  {
   "cell_type": "code",
   "execution_count": 1,
   "metadata": {},
   "outputs": [],
   "source": [
    "# Import libraries\n",
    "import os\n",
    "import sqlalchemy\n",
    "import pandas as pd\n",
    "import matplotlib.pyplot as plt\n",
    "\n",
    "from sqlalchemy.inspection import inspect"
   ]
  },
  {
   "cell_type": "code",
   "execution_count": 2,
   "metadata": {},
   "outputs": [
    {
     "data": {
      "text/plain": [
       "'c:\\\\Users\\\\dickl\\\\VSCode_Project\\\\TWSE_ShortQuotaScrape\\\\main'"
      ]
     },
     "execution_count": 2,
     "metadata": {},
     "output_type": "execute_result"
    }
   ],
   "source": [
    "# Test cell\n",
    "os.getcwd()"
   ]
  },
  {
   "cell_type": "code",
   "execution_count": 3,
   "metadata": {},
   "outputs": [
    {
     "data": {
      "text/plain": [
       "['temp', 'twse_sq']"
      ]
     },
     "execution_count": 3,
     "metadata": {},
     "output_type": "execute_result"
    }
   ],
   "source": [
    "# Load the database\n",
    "engine = sqlalchemy.create_engine('sqlite:///../data/TWSE_SQ.db')\n",
    "inspector = inspect(engine)\n",
    "inspector.get_table_names()"
   ]
  },
  {
   "cell_type": "code",
   "execution_count": 4,
   "metadata": {},
   "outputs": [
    {
     "data": {
      "text/html": [
       "<div>\n",
       "<style scoped>\n",
       "    .dataframe tbody tr th:only-of-type {\n",
       "        vertical-align: middle;\n",
       "    }\n",
       "\n",
       "    .dataframe tbody tr th {\n",
       "        vertical-align: top;\n",
       "    }\n",
       "\n",
       "    .dataframe thead th {\n",
       "        text-align: right;\n",
       "    }\n",
       "</style>\n",
       "<table border=\"1\" class=\"dataframe\">\n",
       "  <thead>\n",
       "    <tr style=\"text-align: right;\">\n",
       "      <th></th>\n",
       "      <th>request_date</th>\n",
       "      <th>request_time</th>\n",
       "      <th>stkno</th>\n",
       "      <th>txtime</th>\n",
       "      <th>slblimit</th>\n",
       "      <th>ts</th>\n",
       "    </tr>\n",
       "  </thead>\n",
       "  <tbody>\n",
       "    <tr>\n",
       "      <th>10322</th>\n",
       "      <td>2022-11-29</td>\n",
       "      <td>08:53:12.717576</td>\n",
       "      <td>0050</td>\n",
       "      <td>08:46:18.94</td>\n",
       "      <td>430</td>\n",
       "      <td>8461894</td>\n",
       "    </tr>\n",
       "    <tr>\n",
       "      <th>10323</th>\n",
       "      <td>2022-11-29</td>\n",
       "      <td>08:53:12.717576</td>\n",
       "      <td>0051</td>\n",
       "      <td></td>\n",
       "      <td>4215</td>\n",
       "      <td>0</td>\n",
       "    </tr>\n",
       "    <tr>\n",
       "      <th>10324</th>\n",
       "      <td>2022-11-29</td>\n",
       "      <td>08:53:12.717576</td>\n",
       "      <td>0052</td>\n",
       "      <td></td>\n",
       "      <td>37004</td>\n",
       "      <td>0</td>\n",
       "    </tr>\n",
       "    <tr>\n",
       "      <th>10325</th>\n",
       "      <td>2022-11-29</td>\n",
       "      <td>08:53:12.717576</td>\n",
       "      <td>0053</td>\n",
       "      <td></td>\n",
       "      <td>885</td>\n",
       "      <td>0</td>\n",
       "    </tr>\n",
       "    <tr>\n",
       "      <th>10326</th>\n",
       "      <td>2022-11-29</td>\n",
       "      <td>08:53:12.717576</td>\n",
       "      <td>0055</td>\n",
       "      <td></td>\n",
       "      <td>26329</td>\n",
       "      <td>0</td>\n",
       "    </tr>\n",
       "  </tbody>\n",
       "</table>\n",
       "</div>"
      ],
      "text/plain": [
       "      request_date     request_time stkno       txtime  slblimit       ts\n",
       "10322   2022-11-29  08:53:12.717576  0050  08:46:18.94       430  8461894\n",
       "10323   2022-11-29  08:53:12.717576  0051                   4215        0\n",
       "10324   2022-11-29  08:53:12.717576  0052                  37004        0\n",
       "10325   2022-11-29  08:53:12.717576  0053                    885        0\n",
       "10326   2022-11-29  08:53:12.717576  0055                  26329        0"
      ]
     },
     "execution_count": 4,
     "metadata": {},
     "output_type": "execute_result"
    }
   ],
   "source": [
    "# Import the database table\n",
    "df = pd.read_sql('twse_sq', engine)\n",
    "df = df.query('request_date > \"2022-11-28\"')\n",
    "df.head()"
   ]
  },
  {
   "cell_type": "code",
   "execution_count": 32,
   "metadata": {},
   "outputs": [
    {
     "name": "stdout",
     "output_type": "stream",
     "text": [
      "Index(['request_date', 'request_time', 'stkno', 'txtime', 'slblimit', 'ts'], dtype='object')\n"
     ]
    },
    {
     "data": {
      "text/html": [
       "<div>\n",
       "<style scoped>\n",
       "    .dataframe tbody tr th:only-of-type {\n",
       "        vertical-align: middle;\n",
       "    }\n",
       "\n",
       "    .dataframe tbody tr th {\n",
       "        vertical-align: top;\n",
       "    }\n",
       "\n",
       "    .dataframe thead th {\n",
       "        text-align: right;\n",
       "    }\n",
       "</style>\n",
       "<table border=\"1\" class=\"dataframe\">\n",
       "  <thead>\n",
       "    <tr style=\"text-align: right;\">\n",
       "      <th></th>\n",
       "      <th>request_date</th>\n",
       "      <th>request_time</th>\n",
       "      <th>stkno</th>\n",
       "      <th>txtime</th>\n",
       "      <th>slblimit</th>\n",
       "      <th>ts</th>\n",
       "    </tr>\n",
       "  </thead>\n",
       "  <tbody>\n",
       "    <tr>\n",
       "      <th>126587</th>\n",
       "      <td>2022-12-02</td>\n",
       "      <td>13:31:55.059995</td>\n",
       "      <td>9917</td>\n",
       "      <td>13:30:30.90</td>\n",
       "      <td>2477</td>\n",
       "      <td>13303090</td>\n",
       "    </tr>\n",
       "    <tr>\n",
       "      <th>126588</th>\n",
       "      <td>2022-12-02</td>\n",
       "      <td>13:32:44.173073</td>\n",
       "      <td>1101</td>\n",
       "      <td>13:31:41.65</td>\n",
       "      <td>27164</td>\n",
       "      <td>13314165</td>\n",
       "    </tr>\n",
       "    <tr>\n",
       "      <th>126589</th>\n",
       "      <td>2022-12-02</td>\n",
       "      <td>13:32:44.173073</td>\n",
       "      <td>2886</td>\n",
       "      <td>13:31:42.53</td>\n",
       "      <td>54368</td>\n",
       "      <td>13314253</td>\n",
       "    </tr>\n",
       "    <tr>\n",
       "      <th>126590</th>\n",
       "      <td>2022-12-02</td>\n",
       "      <td>14:01:40.240232</td>\n",
       "      <td>9921</td>\n",
       "      <td>14:01:11.66</td>\n",
       "      <td>123</td>\n",
       "      <td>14011166</td>\n",
       "    </tr>\n",
       "    <tr>\n",
       "      <th>126591</th>\n",
       "      <td>2022-12-02</td>\n",
       "      <td>15:28:40.846469</td>\n",
       "      <td>3617</td>\n",
       "      <td>15:28:03.03</td>\n",
       "      <td>53363</td>\n",
       "      <td>15280303</td>\n",
       "    </tr>\n",
       "  </tbody>\n",
       "</table>\n",
       "</div>"
      ],
      "text/plain": [
       "       request_date     request_time stkno       txtime  slblimit        ts\n",
       "126587   2022-12-02  13:31:55.059995  9917  13:30:30.90      2477  13303090\n",
       "126588   2022-12-02  13:32:44.173073  1101  13:31:41.65     27164  13314165\n",
       "126589   2022-12-02  13:32:44.173073  2886  13:31:42.53     54368  13314253\n",
       "126590   2022-12-02  14:01:40.240232  9921  14:01:11.66       123  14011166\n",
       "126591   2022-12-02  15:28:40.846469  3617  15:28:03.03     53363  15280303"
      ]
     },
     "execution_count": 32,
     "metadata": {},
     "output_type": "execute_result"
    }
   ],
   "source": [
    "print(df.columns)\n",
    "df.tail()"
   ]
  },
  {
   "cell_type": "code",
   "execution_count": 10,
   "metadata": {},
   "outputs": [],
   "source": [
    "# Generate the stock list\n",
    "df['stkno'].to_clipboard()"
   ]
  },
  {
   "cell_type": "code",
   "execution_count": 36,
   "metadata": {},
   "outputs": [
    {
     "name": "stdout",
     "output_type": "stream",
     "text": [
      "Number of days:  5\n",
      "Number of stocks:  1766\n"
     ]
    }
   ],
   "source": [
    "# Some basic information, looking at the dataset\n",
    "print(\"Number of days: \", len(df['request_date'].unique()))\n",
    "print(\"Number of stocks: \", len(df['stkno'].unique()))"
   ]
  },
  {
   "cell_type": "code",
   "execution_count": 107,
   "metadata": {},
   "outputs": [
    {
     "data": {
      "text/html": [
       "<div>\n",
       "<style scoped>\n",
       "    .dataframe tbody tr th:only-of-type {\n",
       "        vertical-align: middle;\n",
       "    }\n",
       "\n",
       "    .dataframe tbody tr th {\n",
       "        vertical-align: top;\n",
       "    }\n",
       "\n",
       "    .dataframe thead th {\n",
       "        text-align: right;\n",
       "    }\n",
       "</style>\n",
       "<table border=\"1\" class=\"dataframe\">\n",
       "  <thead>\n",
       "    <tr style=\"text-align: right;\">\n",
       "      <th></th>\n",
       "      <th>request_date</th>\n",
       "      <th>request_time</th>\n",
       "      <th>stkno</th>\n",
       "      <th>txtime</th>\n",
       "      <th>slblimit</th>\n",
       "      <th>ts</th>\n",
       "    </tr>\n",
       "  </thead>\n",
       "  <tbody>\n",
       "    <tr>\n",
       "      <th>10322</th>\n",
       "      <td>2022-11-29</td>\n",
       "      <td>08:53:12.717576</td>\n",
       "      <td>0050</td>\n",
       "      <td>08:46:18.94</td>\n",
       "      <td>430</td>\n",
       "      <td>8461894</td>\n",
       "    </tr>\n",
       "    <tr>\n",
       "      <th>10323</th>\n",
       "      <td>2022-11-29</td>\n",
       "      <td>08:53:12.717576</td>\n",
       "      <td>0051</td>\n",
       "      <td></td>\n",
       "      <td>4215</td>\n",
       "      <td>0</td>\n",
       "    </tr>\n",
       "    <tr>\n",
       "      <th>10324</th>\n",
       "      <td>2022-11-29</td>\n",
       "      <td>08:53:12.717576</td>\n",
       "      <td>0052</td>\n",
       "      <td></td>\n",
       "      <td>37004</td>\n",
       "      <td>0</td>\n",
       "    </tr>\n",
       "    <tr>\n",
       "      <th>10325</th>\n",
       "      <td>2022-11-29</td>\n",
       "      <td>08:53:12.717576</td>\n",
       "      <td>0053</td>\n",
       "      <td></td>\n",
       "      <td>885</td>\n",
       "      <td>0</td>\n",
       "    </tr>\n",
       "    <tr>\n",
       "      <th>10326</th>\n",
       "      <td>2022-11-29</td>\n",
       "      <td>08:53:12.717576</td>\n",
       "      <td>0055</td>\n",
       "      <td></td>\n",
       "      <td>26329</td>\n",
       "      <td>0</td>\n",
       "    </tr>\n",
       "    <tr>\n",
       "      <th>...</th>\n",
       "      <td>...</td>\n",
       "      <td>...</td>\n",
       "      <td>...</td>\n",
       "      <td>...</td>\n",
       "      <td>...</td>\n",
       "      <td>...</td>\n",
       "    </tr>\n",
       "    <tr>\n",
       "      <th>126587</th>\n",
       "      <td>2022-12-02</td>\n",
       "      <td>13:31:55.059995</td>\n",
       "      <td>9917</td>\n",
       "      <td>13:30:30.90</td>\n",
       "      <td>2477</td>\n",
       "      <td>13303090</td>\n",
       "    </tr>\n",
       "    <tr>\n",
       "      <th>126588</th>\n",
       "      <td>2022-12-02</td>\n",
       "      <td>13:32:44.173073</td>\n",
       "      <td>1101</td>\n",
       "      <td>13:31:41.65</td>\n",
       "      <td>27164</td>\n",
       "      <td>13314165</td>\n",
       "    </tr>\n",
       "    <tr>\n",
       "      <th>126589</th>\n",
       "      <td>2022-12-02</td>\n",
       "      <td>13:32:44.173073</td>\n",
       "      <td>2886</td>\n",
       "      <td>13:31:42.53</td>\n",
       "      <td>54368</td>\n",
       "      <td>13314253</td>\n",
       "    </tr>\n",
       "    <tr>\n",
       "      <th>126590</th>\n",
       "      <td>2022-12-02</td>\n",
       "      <td>14:01:40.240232</td>\n",
       "      <td>9921</td>\n",
       "      <td>14:01:11.66</td>\n",
       "      <td>123</td>\n",
       "      <td>14011166</td>\n",
       "    </tr>\n",
       "    <tr>\n",
       "      <th>126591</th>\n",
       "      <td>2022-12-02</td>\n",
       "      <td>15:28:40.846469</td>\n",
       "      <td>3617</td>\n",
       "      <td>15:28:03.03</td>\n",
       "      <td>53363</td>\n",
       "      <td>15280303</td>\n",
       "    </tr>\n",
       "  </tbody>\n",
       "</table>\n",
       "<p>116270 rows × 6 columns</p>\n",
       "</div>"
      ],
      "text/plain": [
       "       request_date     request_time stkno       txtime  slblimit        ts\n",
       "10322    2022-11-29  08:53:12.717576  0050  08:46:18.94       430   8461894\n",
       "10323    2022-11-29  08:53:12.717576  0051                   4215         0\n",
       "10324    2022-11-29  08:53:12.717576  0052                  37004         0\n",
       "10325    2022-11-29  08:53:12.717576  0053                    885         0\n",
       "10326    2022-11-29  08:53:12.717576  0055                  26329         0\n",
       "...             ...              ...   ...          ...       ...       ...\n",
       "126587   2022-12-02  13:31:55.059995  9917  13:30:30.90      2477  13303090\n",
       "126588   2022-12-02  13:32:44.173073  1101  13:31:41.65     27164  13314165\n",
       "126589   2022-12-02  13:32:44.173073  2886  13:31:42.53     54368  13314253\n",
       "126590   2022-12-02  14:01:40.240232  9921  14:01:11.66       123  14011166\n",
       "126591   2022-12-02  15:28:40.846469  3617  15:28:03.03     53363  15280303\n",
       "\n",
       "[116270 rows x 6 columns]"
      ]
     },
     "execution_count": 107,
     "metadata": {},
     "output_type": "execute_result"
    }
   ],
   "source": [
    "df.query(\"request_date <= @end_date \")"
   ]
  },
  {
   "cell_type": "code",
   "execution_count": 11,
   "metadata": {},
   "outputs": [],
   "source": [
    "# Utility functions\n",
    "def get_data(stkno_list:list, start_date, end_date):\n",
    "    return df.query(\"request_date <= @end_date & request_date >= @start_date & stkno in @stkno_list\")"
   ]
  },
  {
   "cell_type": "code",
   "execution_count": 108,
   "metadata": {},
   "outputs": [
    {
     "data": {
      "text/html": [
       "<div>\n",
       "<style scoped>\n",
       "    .dataframe tbody tr th:only-of-type {\n",
       "        vertical-align: middle;\n",
       "    }\n",
       "\n",
       "    .dataframe tbody tr th {\n",
       "        vertical-align: top;\n",
       "    }\n",
       "\n",
       "    .dataframe thead th {\n",
       "        text-align: right;\n",
       "    }\n",
       "</style>\n",
       "<table border=\"1\" class=\"dataframe\">\n",
       "  <thead>\n",
       "    <tr style=\"text-align: right;\">\n",
       "      <th></th>\n",
       "      <th>request_date</th>\n",
       "      <th>request_time</th>\n",
       "      <th>stkno</th>\n",
       "      <th>txtime</th>\n",
       "      <th>slblimit</th>\n",
       "      <th>ts</th>\n",
       "    </tr>\n",
       "  </thead>\n",
       "  <tbody>\n",
       "    <tr>\n",
       "      <th>123023</th>\n",
       "      <td>2022-12-02</td>\n",
       "      <td>13:02:33.334021</td>\n",
       "      <td>2330</td>\n",
       "      <td>13:02:16.78</td>\n",
       "      <td>3852144</td>\n",
       "      <td>13021678</td>\n",
       "    </tr>\n",
       "    <tr>\n",
       "      <th>123324</th>\n",
       "      <td>2022-12-02</td>\n",
       "      <td>13:03:42.023955</td>\n",
       "      <td>2330</td>\n",
       "      <td>13:03:00.45</td>\n",
       "      <td>3819144</td>\n",
       "      <td>13030045</td>\n",
       "    </tr>\n",
       "    <tr>\n",
       "      <th>123906</th>\n",
       "      <td>2022-12-02</td>\n",
       "      <td>13:08:38.260506</td>\n",
       "      <td>2330</td>\n",
       "      <td>13:07:28.50</td>\n",
       "      <td>3817144</td>\n",
       "      <td>13072850</td>\n",
       "    </tr>\n",
       "    <tr>\n",
       "      <th>124301</th>\n",
       "      <td>2022-12-02</td>\n",
       "      <td>13:13:43.851548</td>\n",
       "      <td>2330</td>\n",
       "      <td>13:13:24.43</td>\n",
       "      <td>3816144</td>\n",
       "      <td>13132443</td>\n",
       "    </tr>\n",
       "    <tr>\n",
       "      <th>124466</th>\n",
       "      <td>2022-12-02</td>\n",
       "      <td>13:15:32.968316</td>\n",
       "      <td>2330</td>\n",
       "      <td>13:15:00.04</td>\n",
       "      <td>3816144</td>\n",
       "      <td>13150004</td>\n",
       "    </tr>\n",
       "    <tr>\n",
       "      <th>125134</th>\n",
       "      <td>2022-12-02</td>\n",
       "      <td>13:22:35.802867</td>\n",
       "      <td>2330</td>\n",
       "      <td>13:22:15.33</td>\n",
       "      <td>3792144</td>\n",
       "      <td>13221533</td>\n",
       "    </tr>\n",
       "    <tr>\n",
       "      <th>125325</th>\n",
       "      <td>2022-12-02</td>\n",
       "      <td>13:22:56.029038</td>\n",
       "      <td>2330</td>\n",
       "      <td>13:22:24.57</td>\n",
       "      <td>3792144</td>\n",
       "      <td>13222457</td>\n",
       "    </tr>\n",
       "    <tr>\n",
       "      <th>125488</th>\n",
       "      <td>2022-12-02</td>\n",
       "      <td>13:23:41.660845</td>\n",
       "      <td>2330</td>\n",
       "      <td>13:23:15.58</td>\n",
       "      <td>3732144</td>\n",
       "      <td>13231558</td>\n",
       "    </tr>\n",
       "    <tr>\n",
       "      <th>125824</th>\n",
       "      <td>2022-12-02</td>\n",
       "      <td>13:25:32.229691</td>\n",
       "      <td>2330</td>\n",
       "      <td>13:25:20.65</td>\n",
       "      <td>3731144</td>\n",
       "      <td>13252065</td>\n",
       "    </tr>\n",
       "    <tr>\n",
       "      <th>126186</th>\n",
       "      <td>2022-12-02</td>\n",
       "      <td>13:30:33.101219</td>\n",
       "      <td>2330</td>\n",
       "      <td>13:29:59.50</td>\n",
       "      <td>3631144</td>\n",
       "      <td>13295950</td>\n",
       "    </tr>\n",
       "  </tbody>\n",
       "</table>\n",
       "</div>"
      ],
      "text/plain": [
       "       request_date     request_time stkno       txtime  slblimit        ts\n",
       "123023   2022-12-02  13:02:33.334021  2330  13:02:16.78   3852144  13021678\n",
       "123324   2022-12-02  13:03:42.023955  2330  13:03:00.45   3819144  13030045\n",
       "123906   2022-12-02  13:08:38.260506  2330  13:07:28.50   3817144  13072850\n",
       "124301   2022-12-02  13:13:43.851548  2330  13:13:24.43   3816144  13132443\n",
       "124466   2022-12-02  13:15:32.968316  2330  13:15:00.04   3816144  13150004\n",
       "125134   2022-12-02  13:22:35.802867  2330  13:22:15.33   3792144  13221533\n",
       "125325   2022-12-02  13:22:56.029038  2330  13:22:24.57   3792144  13222457\n",
       "125488   2022-12-02  13:23:41.660845  2330  13:23:15.58   3732144  13231558\n",
       "125824   2022-12-02  13:25:32.229691  2330  13:25:20.65   3731144  13252065\n",
       "126186   2022-12-02  13:30:33.101219  2330  13:29:59.50   3631144  13295950"
      ]
     },
     "execution_count": 108,
     "metadata": {},
     "output_type": "execute_result"
    }
   ],
   "source": [
    "start_date = '2022-11-28'\n",
    "end_date = '2022-12-02'\n",
    "stkno_list = ['0050', '2330']\n",
    "df_temp = get_data(stkno_list=stkno_list, start_date=start_date, end_date=end_date)\n",
    "df_temp.tail(10)"
   ]
  },
  {
   "cell_type": "code",
   "execution_count": 305,
   "metadata": {},
   "outputs": [],
   "source": [
    "def get_quota_used(stkno_list):\n",
    "    df_stk = df.query('stkno in @stkno_list')\n",
    "    return df_stk.groupby(['request_date', 'stkno']).apply(lambda x: (x['slblimit'].iloc[-1]/x['slblimit'].iloc[0]-1))"
   ]
  },
  {
   "cell_type": "code",
   "execution_count": 304,
   "metadata": {},
   "outputs": [
    {
     "data": {
      "text/plain": [
       "[<matplotlib.lines.Line2D at 0x1cca72fcd90>]"
      ]
     },
     "execution_count": 304,
     "metadata": {},
     "output_type": "execute_result"
    },
    {
     "data": {
      "image/png": "[encoded data removed]",
      "text/plain": [
       "<Figure size 640x480 with 1 Axes>"
      ]
     },
     "metadata": {},
     "output_type": "display_data"
    }
   ],
   "source": [
    "# Plotting the stock quota\n",
    "start_date = '2022-12-02'\n",
    "end_date = '2022-12-02'\n",
    "stkno_list = ['1513']\n",
    "df_temp = get_data(stkno_list=stkno_list, start_date=start_date, end_date=end_date)\n",
    "plt.plot(range(len(df_temp['slblimit'])), df_temp['slblimit'])"
   ]
  },
  {
   "cell_type": "markdown",
   "metadata": {},
   "source": [
    "Thigns to test with:\n",
    "1. Calculate a table showing every stock daily used short quota\n",
    "2. Calculate the velocity of short quota usages\n",
    "3. Hourly burn of quota"
   ]
  },
  {
   "cell_type": "code",
   "execution_count": 109,
   "metadata": {},
   "outputs": [
    {
     "name": "stdout",
     "output_type": "stream",
     "text": [
      "(('0050', Timestamp('2022-11-29 00:00:00')),       request_date     request_time stkno       txtime  slblimit        ts\n",
      "10322   2022-11-29  08:53:12.717576  0050  08:46:18.94       430   8461894\n",
      "38931   2022-11-29  13:28:40.712057  0050  13:27:56.92    241430  13275692)\n"
     ]
    }
   ],
   "source": [
    "# Calculating stock daily use of quota\n",
    "for gp in df.groupby(['stkno', 'request_date']):\n",
    "    print(gp)\n",
    "    break"
   ]
  },
  {
   "cell_type": "code",
   "execution_count": 110,
   "metadata": {},
   "outputs": [
    {
     "data": {
      "text/plain": [
       "stkno  request_date\n",
       "0050   2022-11-29      -241000\n",
       "       2022-11-30      -566000\n",
       "       2022-12-01       503000\n",
       "       2022-12-02      1367000\n",
       "0051   2022-11-29            0\n",
       "                        ...   \n",
       "9960   2022-12-02            0\n",
       "9962   2022-11-29            0\n",
       "       2022-11-30            0\n",
       "       2022-12-01            0\n",
       "       2022-12-02            0\n",
       "Length: 7062, dtype: int64"
      ]
     },
     "execution_count": 110,
     "metadata": {},
     "output_type": "execute_result"
    }
   ],
   "source": [
    "# This line can see the use of quota each date\n",
    "df_sq_group = df.groupby(['stkno', 'request_date'])\n",
    "df_sq_diff = df_sq_group.apply(lambda gp: gp['slblimit'].iloc[0]-gp['slblimit'].iloc[-1])\n",
    "df_sq_diff"
   ]
  },
  {
   "cell_type": "code",
   "execution_count": 126,
   "metadata": {},
   "outputs": [
    {
     "data": {
      "text/plain": [
       "stkno\n",
       "00632R    10636500.0\n",
       "2609       3927750.0\n",
       "0056       3289750.0\n",
       "2303       2680750.0\n",
       "2883       2606000.0\n",
       "3481       2272250.0\n",
       "00878      2251750.0\n",
       "2317       2145500.0\n",
       "1101       2043750.0\n",
       "2409       1892250.0\n",
       "dtype: float64"
      ]
     },
     "execution_count": 126,
     "metadata": {},
     "output_type": "execute_result"
    }
   ],
   "source": [
    "# Most changed in daily aggregated short quota in past 4 days\n",
    "df_sq_diff.groupby('stkno').apply(lambda x: x.abs().mean()).sort_values(ascending=False).head(10)"
   ]
  },
  {
   "cell_type": "code",
   "execution_count": 139,
   "metadata": {},
   "outputs": [
    {
     "data": {
      "text/plain": [
       "stkno\n",
       "2609      222.25\n",
       "00878     199.25\n",
       "006208    195.50\n",
       "00636     190.25\n",
       "4123      186.50\n",
       "00655L    182.25\n",
       "2303      179.25\n",
       "2317      176.25\n",
       "2610      167.75\n",
       "6180      162.00\n",
       "Name: slblimit, dtype: float64"
      ]
     },
     "execution_count": 139,
     "metadata": {},
     "output_type": "execute_result"
    }
   ],
   "source": [
    "# Most active stocks in security lending selling and buying in the past 4 days (most transactions)\n",
    "df_sq_group['slblimit'].count().groupby('stkno').mean().sort_values(ascending=False).head(10)"
   ]
  },
  {
   "cell_type": "code",
   "execution_count": null,
   "metadata": {},
   "outputs": [],
   "source": [
    "# Most changed in daily aggregated short quota in past 4 days\n",
    "df_sq_diff.groupby('stkno').apply(lambda x: x.abs().mean()).sort_values(ascending=False).head(10)"
   ]
  },
  {
   "cell_type": "code",
   "execution_count": 161,
   "metadata": {},
   "outputs": [],
   "source": [
    "# Overall volume transacted for all stocks on each date\n",
    "df_sq_tx_diff = df_sq_group.apply(lambda x: x['slblimit'].diff()).dropna()\n",
    "df_sq_tx_diff=df_sq_tx_diff.droplevel(2)"
   ]
  },
  {
   "cell_type": "code",
   "execution_count": 195,
   "metadata": {},
   "outputs": [
    {
     "data": {
      "text/plain": [
       "request_date\n",
       "2022-11-29     94523000\n",
       "2022-11-30     89981000\n",
       "2022-12-01    131338000\n",
       "2022-12-02    105193000\n",
       "dtype: int64"
      ]
     },
     "execution_count": 195,
     "metadata": {},
     "output_type": "execute_result"
    }
   ],
   "source": [
    "df_date_used_quota_overall = df.groupby(['request_date', 'stkno']).apply(lambda x: x['slblimit'].iloc[0] - x['slblimit'].iloc[-1]).groupby('request_date').sum()\n",
    "df_date_used_quota_overall.to_clipboard()\n",
    "df_date_used_quota_overall"
   ]
  },
  {
   "cell_type": "code",
   "execution_count": 244,
   "metadata": {},
   "outputs": [
    {
     "data": {
      "text/plain": [
       "MultiIndex([('2022-11-29',   '0051'),\n",
       "            ('2022-11-29',   '0052'),\n",
       "            ('2022-11-29',   '0053'),\n",
       "            ('2022-11-29',   '0055'),\n",
       "            ('2022-11-29',   '0056'),\n",
       "            ('2022-11-29',   '0057'),\n",
       "            ('2022-11-29',   '0061'),\n",
       "            ('2022-11-29', '006201'),\n",
       "            ('2022-11-29', '006203'),\n",
       "            ('2022-11-29', '006204'),\n",
       "            ...\n",
       "            ('2022-12-02',   '9942'),\n",
       "            ('2022-12-02',   '9943'),\n",
       "            ('2022-12-02',   '9944'),\n",
       "            ('2022-12-02',   '9945'),\n",
       "            ('2022-12-02',   '9946'),\n",
       "            ('2022-12-02',   '9951'),\n",
       "            ('2022-12-02',   '9955'),\n",
       "            ('2022-12-02',   '9958'),\n",
       "            ('2022-12-02',   '9960'),\n",
       "            ('2022-12-02',   '9962')],\n",
       "           names=['request_date', 'stkno'], length=5761)"
      ]
     },
     "execution_count": 244,
     "metadata": {},
     "output_type": "execute_result"
    }
   ],
   "source": [
    "df_valid_rows = df.groupby(['request_date', 'stkno']).apply(lambda x: x['txtime'].iloc[0] == \"\")\n",
    "df_valid_rows_idx = df_valid_rows[df_valid_rows].index\n",
    "df_valid_rows_idx"
   ]
  },
  {
   "cell_type": "code",
   "execution_count": 245,
   "metadata": {},
   "outputs": [
    {
     "data": {
      "text/plain": [
       "request_date  stkno\n",
       "2022-11-29    0050     560.465116\n",
       "              0051       0.000000\n",
       "              0052      -0.324289\n",
       "              0053       0.000000\n",
       "              0055       0.000000\n",
       "                          ...    \n",
       "2022-12-02    9951       0.000000\n",
       "              9955      -0.113074\n",
       "              9958      -0.232524\n",
       "              9960       0.000000\n",
       "              9962       0.000000\n",
       "Length: 7062, dtype: float64"
      ]
     },
     "execution_count": 245,
     "metadata": {},
     "output_type": "execute_result"
    }
   ],
   "source": [
    "# Quota consumption of popular stocks in each date\n",
    "df_daily_sq_change = df.groupby(['request_date', 'stkno']).apply(lambda x: (x['slblimit'].iloc[-1]/x['slblimit'].iloc[0]-1))\n",
    "df_daily_sq_change"
   ]
  },
  {
   "cell_type": "code",
   "execution_count": 253,
   "metadata": {},
   "outputs": [
    {
     "data": {
      "text/plain": [
       "stkno\n",
       "0050   -0.929530\n",
       "0051    0.000000\n",
       "0052   -0.108096\n",
       "0053    0.000000\n",
       "0055    0.000000\n",
       "          ...   \n",
       "9951    0.000000\n",
       "9955   -0.028269\n",
       "9958   -0.304243\n",
       "9960    0.000000\n",
       "9962    0.000000\n",
       "Length: 1637, dtype: float64"
      ]
     },
     "execution_count": 253,
     "metadata": {},
     "output_type": "execute_result"
    }
   ],
   "source": [
    "df_daily_sq_change[df_valid_rows_idx].groupby('stkno').mean()"
   ]
  },
  {
   "cell_type": "code",
   "execution_count": 317,
   "metadata": {},
   "outputs": [
    {
     "data": {
      "text/plain": [
       "stkno\n",
       "0056     -0.999915\n",
       "2486     -0.998965\n",
       "3034     -0.997999\n",
       "2441     -0.997992\n",
       "6505     -0.996799\n",
       "3576     -0.995326\n",
       "2356     -0.994031\n",
       "1455     -0.993834\n",
       "8926     -0.993087\n",
       "1314     -0.991795\n",
       "2609     -0.991640\n",
       "2006     -0.987789\n",
       "3036     -0.987376\n",
       "00900    -0.987099\n",
       "1303     -0.984046\n",
       "2539     -0.983970\n",
       "2881     -0.983771\n",
       "1304     -0.982072\n",
       "1718     -0.979053\n",
       "2412     -0.976264\n",
       "1101     -0.973760\n",
       "2906     -0.973121\n",
       "2886     -0.972974\n",
       "5876     -0.972428\n",
       "9921     -0.967746\n",
       "4916     -0.966846\n",
       "5880     -0.961376\n",
       "1717     -0.953382\n",
       "1210     -0.949491\n",
       "1785     -0.934037\n",
       "5607     -0.932874\n",
       "9908     -0.931649\n",
       "2885     -0.931199\n",
       "00679B   -0.912166\n",
       "2227     -0.891056\n",
       "1712     -0.890186\n",
       "2548     -0.886464\n",
       "2417     -0.882278\n",
       "6277     -0.875125\n",
       "1440     -0.874582\n",
       "4137     -0.864761\n",
       "9917     -0.860358\n",
       "3045     -0.843426\n",
       "2354     -0.842446\n",
       "2385     -0.835631\n",
       "3704     -0.830263\n",
       "2489     -0.824092\n",
       "6672     -0.821111\n",
       "6233     -0.820543\n",
       "3049     -0.819552\n",
       "dtype: float64"
      ]
     },
     "execution_count": 317,
     "metadata": {},
     "output_type": "execute_result"
    }
   ],
   "source": [
    "df_daily_sq_change.groupby('stkno').mean().sort_values().head(50)\n",
    "# df_daily_sq_change[df_valid_rows_idx].groupby('stkno').mean().sort_values().head(50)"
   ]
  },
  {
   "cell_type": "code",
   "execution_count": 312,
   "metadata": {},
   "outputs": [],
   "source": [
    "# Stocks' average number of transaction\n",
    "df.groupby(['request_date','stkno']).apply(lambda x: x['slblimit'].count()).groupby('stkno').mean().sort_values(ascending=False).head(50)"
   ]
  },
  {
   "cell_type": "code",
   "execution_count": 298,
   "metadata": {},
   "outputs": [
    {
     "data": {
      "text/plain": [
       "stkno\n",
       "00878     188.000000\n",
       "1513      151.000000\n",
       "2530      121.000000\n",
       "3481      119.500000\n",
       "8069      110.500000\n",
       "1712      101.000000\n",
       "4919       97.000000\n",
       "2027       95.000000\n",
       "2637       92.000000\n",
       "1444       88.000000\n",
       "4128       86.666667\n",
       "8926       85.000000\n",
       "2481       84.333333\n",
       "3062       84.000000\n",
       "2408       83.000000\n",
       "9945       82.666667\n",
       "2888       78.500000\n",
       "1802       77.000000\n",
       "1312       77.000000\n",
       "00692      76.000000\n",
       "0056       75.500000\n",
       "4915       74.000000\n",
       "4164       70.000000\n",
       "8454       70.000000\n",
       "1304       69.000000\n",
       "1467       68.666667\n",
       "4927       68.333333\n",
       "2388       67.000000\n",
       "6213       67.000000\n",
       "2606       66.000000\n",
       "0052       65.666667\n",
       "5607       64.000000\n",
       "1609       63.333333\n",
       "1722       63.000000\n",
       "2201       61.000000\n",
       "2615       61.000000\n",
       "9958       60.333333\n",
       "2383       60.000000\n",
       "00632R     57.000000\n",
       "3704       56.333333\n",
       "2455       54.500000\n",
       "2883       54.000000\n",
       "2603       54.000000\n",
       "8081       54.000000\n",
       "2354       53.000000\n",
       "8299       52.666667\n",
       "2915       51.000000\n",
       "2313       50.500000\n",
       "8358       50.000000\n",
       "2352       49.000000\n",
       "dtype: float64"
      ]
     },
     "execution_count": 298,
     "metadata": {},
     "output_type": "execute_result"
    }
   ],
   "source": [
    "df.groupby(['request_date','stkno']).apply(lambda x: (x['slblimit'].diff().abs()>0).sum())[df_valid_rows_idx].groupby('stkno').mean().sort_values(ascending=False).head(50)"
   ]
  },
  {
   "cell_type": "code",
   "execution_count": 13,
   "metadata": {},
   "outputs": [],
   "source": [
    "# Which hour is the busiest hour?\n",
    "# Calculate the quota usage in every hour\n",
    "# Calculate the diff, then sum the abs diff within each hour\n",
    "df_hour = get_data(['1513'], '2022-11-29', '2022-11-29')"
   ]
  },
  {
   "cell_type": "code",
   "execution_count": 19,
   "metadata": {},
   "outputs": [
    {
     "data": {
      "text/plain": [
       "['08:00:00.00',\n",
       " '09:00:00.00',\n",
       " '10:00:00.00',\n",
       " '11:00:00.00',\n",
       " '12:00:00.00',\n",
       " '13:00:00.00',\n",
       " '14:00:00.00',\n",
       " '15:00:00.00',\n",
       " '16:00:00.00']"
      ]
     },
     "execution_count": 19,
     "metadata": {},
     "output_type": "execute_result"
    }
   ],
   "source": [
    "hour_list = [f'{\"0\"*(1-(hour)//10)}{hour}:00:00.00' for hour in range(8, 17)]\n",
    "hour_list"
   ]
  },
  {
   "cell_type": "code",
   "execution_count": 32,
   "metadata": {},
   "outputs": [],
   "source": [
    "date_vol = {}\n",
    "for date in df['request_date'].unique():\n",
    "    df_hour = df.query(\"request_date == @date\")\n",
    "    date_vol[date] = {}\n",
    "    for i in range(len(hour_list)-1):\n",
    "        start_time = hour_list[i]\n",
    "        end_time = hour_list[i+1]\n",
    "        total_turnover = df_hour.query(\"txtime >= @start_time & txtime < @end_time\")['slblimit'].diff().abs().sum()\n",
    "        date_vol[date][end_time] = total_turnover\n",
    "        # print(start_time, '-', end_time, total_turnover)\n",
    "        # print('-'*50)"
   ]
  },
  {
   "cell_type": "code",
   "execution_count": 36,
   "metadata": {},
   "outputs": [],
   "source": [
    "df_total_turnover = pd.DataFrame.from_dict(date_vol).mean(axis=1)"
   ]
  },
  {
   "cell_type": "code",
   "execution_count": 41,
   "metadata": {},
   "outputs": [],
   "source": [
    "df_total_turnover.to_clipboard()"
   ]
  },
  {
   "cell_type": "code",
   "execution_count": 39,
   "metadata": {},
   "outputs": [
    {
     "data": {
      "text/plain": [
       "<BarContainer object of 8 artists>"
      ]
     },
     "execution_count": 39,
     "metadata": {},
     "output_type": "execute_result"
    },
    {
     "data": {
      "image/png": "[encoded data removed]",
      "text/plain": [
       "<Figure size 432x288 with 1 Axes>"
      ]
     },
     "metadata": {
      "needs_background": "light"
     },
     "output_type": "display_data"
    }
   ],
   "source": [
    "plt.bar(df_total_turnover.index, df_total_turnover)"
   ]
  },
  {
   "cell_type": "code",
   "execution_count": null,
   "metadata": {},
   "outputs": [],
   "source": [
    "# Overall % of quota used in each hour\n"
   ]
  },
  {
   "cell_type": "code",
   "execution_count": 302,
   "metadata": {},
   "outputs": [
    {
     "data": {
      "text/html": [
       "<div>\n",
       "<style scoped>\n",
       "    .dataframe tbody tr th:only-of-type {\n",
       "        vertical-align: middle;\n",
       "    }\n",
       "\n",
       "    .dataframe tbody tr th {\n",
       "        vertical-align: top;\n",
       "    }\n",
       "\n",
       "    .dataframe thead th {\n",
       "        text-align: right;\n",
       "    }\n",
       "</style>\n",
       "<table border=\"1\" class=\"dataframe\">\n",
       "  <thead>\n",
       "    <tr style=\"text-align: right;\">\n",
       "      <th></th>\n",
       "      <th>request_date</th>\n",
       "      <th>request_time</th>\n",
       "      <th>stkno</th>\n",
       "      <th>txtime</th>\n",
       "      <th>slblimit</th>\n",
       "      <th>ts</th>\n",
       "    </tr>\n",
       "  </thead>\n",
       "  <tbody>\n",
       "    <tr>\n",
       "      <th>10651</th>\n",
       "      <td>2022-11-29</td>\n",
       "      <td>08:53:12.717576</td>\n",
       "      <td>1513</td>\n",
       "      <td></td>\n",
       "      <td>1105284</td>\n",
       "      <td>0</td>\n",
       "    </tr>\n",
       "    <tr>\n",
       "      <th>12506</th>\n",
       "      <td>2022-11-29</td>\n",
       "      <td>09:01:28.784991</td>\n",
       "      <td>1513</td>\n",
       "      <td>09:01:00.79</td>\n",
       "      <td>1088284</td>\n",
       "      <td>9010079</td>\n",
       "    </tr>\n",
       "    <tr>\n",
       "      <th>12846</th>\n",
       "      <td>2022-11-29</td>\n",
       "      <td>09:02:26.160528</td>\n",
       "      <td>1513</td>\n",
       "      <td>09:01:42.60</td>\n",
       "      <td>1088284</td>\n",
       "      <td>9014260</td>\n",
       "    </tr>\n",
       "    <tr>\n",
       "      <th>13162</th>\n",
       "      <td>2022-11-29</td>\n",
       "      <td>09:03:17.426056</td>\n",
       "      <td>1513</td>\n",
       "      <td>09:02:57.34</td>\n",
       "      <td>1037284</td>\n",
       "      <td>9025734</td>\n",
       "    </tr>\n",
       "    <tr>\n",
       "      <th>13618</th>\n",
       "      <td>2022-11-29</td>\n",
       "      <td>09:05:18.749710</td>\n",
       "      <td>1513</td>\n",
       "      <td>09:05:03.24</td>\n",
       "      <td>1018284</td>\n",
       "      <td>9050324</td>\n",
       "    </tr>\n",
       "    <tr>\n",
       "      <th>...</th>\n",
       "      <td>...</td>\n",
       "      <td>...</td>\n",
       "      <td>...</td>\n",
       "      <td>...</td>\n",
       "      <td>...</td>\n",
       "      <td>...</td>\n",
       "    </tr>\n",
       "    <tr>\n",
       "      <th>37490</th>\n",
       "      <td>2022-11-29</td>\n",
       "      <td>13:18:32.819487</td>\n",
       "      <td>1513</td>\n",
       "      <td>13:18:05.54</td>\n",
       "      <td>440284</td>\n",
       "      <td>13180554</td>\n",
       "    </tr>\n",
       "    <tr>\n",
       "      <th>37586</th>\n",
       "      <td>2022-11-29</td>\n",
       "      <td>13:19:33.247184</td>\n",
       "      <td>1513</td>\n",
       "      <td>13:18:37.10</td>\n",
       "      <td>439284</td>\n",
       "      <td>13183710</td>\n",
       "    </tr>\n",
       "    <tr>\n",
       "      <th>37679</th>\n",
       "      <td>2022-11-29</td>\n",
       "      <td>13:20:39.741184</td>\n",
       "      <td>1513</td>\n",
       "      <td>13:19:37.80</td>\n",
       "      <td>439284</td>\n",
       "      <td>13193780</td>\n",
       "    </tr>\n",
       "    <tr>\n",
       "      <th>38709</th>\n",
       "      <td>2022-11-29</td>\n",
       "      <td>13:25:25.191738</td>\n",
       "      <td>1513</td>\n",
       "      <td>13:25:05.28</td>\n",
       "      <td>438284</td>\n",
       "      <td>13250528</td>\n",
       "    </tr>\n",
       "    <tr>\n",
       "      <th>38987</th>\n",
       "      <td>2022-11-29</td>\n",
       "      <td>13:29:35.084102</td>\n",
       "      <td>1513</td>\n",
       "      <td>13:29:15.47</td>\n",
       "      <td>429284</td>\n",
       "      <td>13291547</td>\n",
       "    </tr>\n",
       "  </tbody>\n",
       "</table>\n",
       "<p>175 rows × 6 columns</p>\n",
       "</div>"
      ],
      "text/plain": [
       "      request_date     request_time stkno       txtime  slblimit        ts\n",
       "10651   2022-11-29  08:53:12.717576  1513                1105284         0\n",
       "12506   2022-11-29  09:01:28.784991  1513  09:01:00.79   1088284   9010079\n",
       "12846   2022-11-29  09:02:26.160528  1513  09:01:42.60   1088284   9014260\n",
       "13162   2022-11-29  09:03:17.426056  1513  09:02:57.34   1037284   9025734\n",
       "13618   2022-11-29  09:05:18.749710  1513  09:05:03.24   1018284   9050324\n",
       "...            ...              ...   ...          ...       ...       ...\n",
       "37490   2022-11-29  13:18:32.819487  1513  13:18:05.54    440284  13180554\n",
       "37586   2022-11-29  13:19:33.247184  1513  13:18:37.10    439284  13183710\n",
       "37679   2022-11-29  13:20:39.741184  1513  13:19:37.80    439284  13193780\n",
       "38709   2022-11-29  13:25:25.191738  1513  13:25:05.28    438284  13250528\n",
       "38987   2022-11-29  13:29:35.084102  1513  13:29:15.47    429284  13291547\n",
       "\n",
       "[175 rows x 6 columns]"
      ]
     },
     "execution_count": 302,
     "metadata": {},
     "output_type": "execute_result"
    }
   ],
   "source": [
    "get_data(['1513'], '2022-11-29', '2022-11-29')"
   ]
  },
  {
   "cell_type": "code",
   "execution_count": 313,
   "metadata": {},
   "outputs": [
    {
     "data": {
      "text/plain": [
       "request_date  stkno\n",
       "2022-11-29    2609    -0.999841\n",
       "2022-11-30    2609    -0.999915\n",
       "2022-12-01    2609    -0.999851\n",
       "2022-12-02    2609    -0.966953\n",
       "dtype: float64"
      ]
     },
     "execution_count": 313,
     "metadata": {},
     "output_type": "execute_result"
    }
   ],
   "source": [
    "get_quota_used(['2609'])"
   ]
  }
 ],
 "metadata": {
  "kernelspec": {
   "display_name": "Python 3.8.3 64-bit",
   "language": "python",
   "name": "python3"
  },
  "language_info": {
   "codemirror_mode": {
    "name": "ipython",
    "version": 3
   },
   "file_extension": ".py",
   "mimetype": "text/x-python",
   "name": "python",
   "nbconvert_exporter": "python",
   "pygments_lexer": "ipython3",
   "version": "3.8.3"
  },
  "orig_nbformat": 4,
  "vscode": {
   "interpreter": {
    "hash": "65c3c694e60bbfb83de6d55ee7466322a920b64b4c8afd732041e07d9a4f2b4a"
   }
  }
 },
 "nbformat": 4,
 "nbformat_minor": 2
}
