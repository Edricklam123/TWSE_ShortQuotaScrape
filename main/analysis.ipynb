{
 "cells": [
  {
   "cell_type": "code",
   "execution_count": 1,
   "metadata": {},
   "outputs": [],
   "source": [
    "# Import libraries\n",
    "import os\n",
    "import sqlalchemy\n",
    "import numpy as np\n",
    "import pandas as pd\n",
    "import matplotlib.pyplot as plt\n",
    "import importlib\n",
    "from matplotlib.dates import date2num\n",
    "\n",
    "from sqlalchemy.inspection import inspect"
   ]
  },
  {
   "cell_type": "code",
   "execution_count": 2,
   "metadata": {},
   "outputs": [
    {
     "data": {
      "text/plain": [
       "<module 'matplotlib.pyplot' from 'c:\\\\Users\\\\Edrick\\\\PycharmProjects\\\\pythonProject\\\\twse_sq_scraper\\\\venv\\\\lib\\\\site-packages\\\\matplotlib\\\\pyplot.py'>"
      ]
     },
     "execution_count": 2,
     "metadata": {},
     "output_type": "execute_result"
    }
   ],
   "source": [
    "importlib.reload(plt)"
   ]
  },
  {
   "cell_type": "code",
   "execution_count": 3,
   "metadata": {},
   "outputs": [
    {
     "data": {
      "text/plain": [
       "'c:\\\\Users\\\\Edrick\\\\PycharmProjects\\\\pythonProject\\\\twse_sq_scraper\\\\main'"
      ]
     },
     "execution_count": 3,
     "metadata": {},
     "output_type": "execute_result"
    }
   ],
   "source": [
    "# Test cell\n",
    "os.getcwd()"
   ]
  },
  {
   "cell_type": "code",
   "execution_count": 4,
   "metadata": {},
   "outputs": [
    {
     "data": {
      "text/plain": [
       "['temp', 'twse_sq']"
      ]
     },
     "execution_count": 4,
     "metadata": {},
     "output_type": "execute_result"
    }
   ],
   "source": [
    "# Load the database\n",
    "engine = sqlalchemy.create_engine('sqlite:///../data/TWSE_SQ.db')\n",
    "inspector = inspect(engine)\n",
    "inspector.get_table_names()"
   ]
  },
  {
   "cell_type": "code",
   "execution_count": 5,
   "metadata": {},
   "outputs": [
    {
     "data": {
      "text/html": [
       "<div>\n",
       "<style scoped>\n",
       "    .dataframe tbody tr th:only-of-type {\n",
       "        vertical-align: middle;\n",
       "    }\n",
       "\n",
       "    .dataframe tbody tr th {\n",
       "        vertical-align: top;\n",
       "    }\n",
       "\n",
       "    .dataframe thead th {\n",
       "        text-align: right;\n",
       "    }\n",
       "</style>\n",
       "<table border=\"1\" class=\"dataframe\">\n",
       "  <thead>\n",
       "    <tr style=\"text-align: right;\">\n",
       "      <th></th>\n",
       "      <th>request_date</th>\n",
       "      <th>request_time</th>\n",
       "      <th>stkno</th>\n",
       "      <th>txtime</th>\n",
       "      <th>slblimit</th>\n",
       "      <th>ts</th>\n",
       "    </tr>\n",
       "  </thead>\n",
       "  <tbody>\n",
       "    <tr>\n",
       "      <th>10322</th>\n",
       "      <td>2022-11-29</td>\n",
       "      <td>08:53:12.717576</td>\n",
       "      <td>0050</td>\n",
       "      <td>08:46:18.94</td>\n",
       "      <td>430</td>\n",
       "      <td>8461894</td>\n",
       "    </tr>\n",
       "    <tr>\n",
       "      <th>10323</th>\n",
       "      <td>2022-11-29</td>\n",
       "      <td>08:53:12.717576</td>\n",
       "      <td>0051</td>\n",
       "      <td></td>\n",
       "      <td>4215</td>\n",
       "      <td>0</td>\n",
       "    </tr>\n",
       "    <tr>\n",
       "      <th>10324</th>\n",
       "      <td>2022-11-29</td>\n",
       "      <td>08:53:12.717576</td>\n",
       "      <td>0052</td>\n",
       "      <td></td>\n",
       "      <td>37004</td>\n",
       "      <td>0</td>\n",
       "    </tr>\n",
       "    <tr>\n",
       "      <th>10325</th>\n",
       "      <td>2022-11-29</td>\n",
       "      <td>08:53:12.717576</td>\n",
       "      <td>0053</td>\n",
       "      <td></td>\n",
       "      <td>885</td>\n",
       "      <td>0</td>\n",
       "    </tr>\n",
       "    <tr>\n",
       "      <th>10326</th>\n",
       "      <td>2022-11-29</td>\n",
       "      <td>08:53:12.717576</td>\n",
       "      <td>0055</td>\n",
       "      <td></td>\n",
       "      <td>26329</td>\n",
       "      <td>0</td>\n",
       "    </tr>\n",
       "  </tbody>\n",
       "</table>\n",
       "</div>"
      ],
      "text/plain": [
       "      request_date     request_time stkno       txtime  slblimit       ts\n",
       "10322   2022-11-29  08:53:12.717576  0050  08:46:18.94       430  8461894\n",
       "10323   2022-11-29  08:53:12.717576  0051                   4215        0\n",
       "10324   2022-11-29  08:53:12.717576  0052                  37004        0\n",
       "10325   2022-11-29  08:53:12.717576  0053                    885        0\n",
       "10326   2022-11-29  08:53:12.717576  0055                  26329        0"
      ]
     },
     "execution_count": 5,
     "metadata": {},
     "output_type": "execute_result"
    }
   ],
   "source": [
    "# Import the database table\n",
    "df = pd.read_sql('twse_sq', engine)\n",
    "df = df.query('request_date > \"2022-11-28\"')\n",
    "df.head()"
   ]
  },
  {
   "cell_type": "code",
   "execution_count": 32,
   "metadata": {},
   "outputs": [
    {
     "name": "stdout",
     "output_type": "stream",
     "text": [
      "Index(['request_date', 'request_time', 'stkno', 'txtime', 'slblimit', 'ts'], dtype='object')\n"
     ]
    },
    {
     "data": {
      "text/html": [
       "<div>\n",
       "<style scoped>\n",
       "    .dataframe tbody tr th:only-of-type {\n",
       "        vertical-align: middle;\n",
       "    }\n",
       "\n",
       "    .dataframe tbody tr th {\n",
       "        vertical-align: top;\n",
       "    }\n",
       "\n",
       "    .dataframe thead th {\n",
       "        text-align: right;\n",
       "    }\n",
       "</style>\n",
       "<table border=\"1\" class=\"dataframe\">\n",
       "  <thead>\n",
       "    <tr style=\"text-align: right;\">\n",
       "      <th></th>\n",
       "      <th>request_date</th>\n",
       "      <th>request_time</th>\n",
       "      <th>stkno</th>\n",
       "      <th>txtime</th>\n",
       "      <th>slblimit</th>\n",
       "      <th>ts</th>\n",
       "    </tr>\n",
       "  </thead>\n",
       "  <tbody>\n",
       "    <tr>\n",
       "      <th>126587</th>\n",
       "      <td>2022-12-02</td>\n",
       "      <td>13:31:55.059995</td>\n",
       "      <td>9917</td>\n",
       "      <td>13:30:30.90</td>\n",
       "      <td>2477</td>\n",
       "      <td>13303090</td>\n",
       "    </tr>\n",
       "    <tr>\n",
       "      <th>126588</th>\n",
       "      <td>2022-12-02</td>\n",
       "      <td>13:32:44.173073</td>\n",
       "      <td>1101</td>\n",
       "      <td>13:31:41.65</td>\n",
       "      <td>27164</td>\n",
       "      <td>13314165</td>\n",
       "    </tr>\n",
       "    <tr>\n",
       "      <th>126589</th>\n",
       "      <td>2022-12-02</td>\n",
       "      <td>13:32:44.173073</td>\n",
       "      <td>2886</td>\n",
       "      <td>13:31:42.53</td>\n",
       "      <td>54368</td>\n",
       "      <td>13314253</td>\n",
       "    </tr>\n",
       "    <tr>\n",
       "      <th>126590</th>\n",
       "      <td>2022-12-02</td>\n",
       "      <td>14:01:40.240232</td>\n",
       "      <td>9921</td>\n",
       "      <td>14:01:11.66</td>\n",
       "      <td>123</td>\n",
       "      <td>14011166</td>\n",
       "    </tr>\n",
       "    <tr>\n",
       "      <th>126591</th>\n",
       "      <td>2022-12-02</td>\n",
       "      <td>15:28:40.846469</td>\n",
       "      <td>3617</td>\n",
       "      <td>15:28:03.03</td>\n",
       "      <td>53363</td>\n",
       "      <td>15280303</td>\n",
       "    </tr>\n",
       "  </tbody>\n",
       "</table>\n",
       "</div>"
      ],
      "text/plain": [
       "       request_date     request_time stkno       txtime  slblimit        ts\n",
       "126587   2022-12-02  13:31:55.059995  9917  13:30:30.90      2477  13303090\n",
       "126588   2022-12-02  13:32:44.173073  1101  13:31:41.65     27164  13314165\n",
       "126589   2022-12-02  13:32:44.173073  2886  13:31:42.53     54368  13314253\n",
       "126590   2022-12-02  14:01:40.240232  9921  14:01:11.66       123  14011166\n",
       "126591   2022-12-02  15:28:40.846469  3617  15:28:03.03     53363  15280303"
      ]
     },
     "execution_count": 32,
     "metadata": {},
     "output_type": "execute_result"
    }
   ],
   "source": [
    "print(df.columns)\n",
    "df.tail()"
   ]
  },
  {
   "cell_type": "code",
   "execution_count": 10,
   "metadata": {},
   "outputs": [],
   "source": [
    "# Generate the stock list\n",
    "df['stkno'].to_clipboard()"
   ]
  },
  {
   "cell_type": "code",
   "execution_count": 36,
   "metadata": {},
   "outputs": [
    {
     "name": "stdout",
     "output_type": "stream",
     "text": [
      "Number of days:  5\n",
      "Number of stocks:  1766\n"
     ]
    }
   ],
   "source": [
    "# Some basic information, looking at the dataset\n",
    "print(\"Number of days: \", len(df['request_date'].unique()))\n",
    "print(\"Number of stocks: \", len(df['stkno'].unique()))"
   ]
  },
  {
   "cell_type": "code",
   "execution_count": 107,
   "metadata": {},
   "outputs": [
    {
     "data": {
      "text/html": [
       "<div>\n",
       "<style scoped>\n",
       "    .dataframe tbody tr th:only-of-type {\n",
       "        vertical-align: middle;\n",
       "    }\n",
       "\n",
       "    .dataframe tbody tr th {\n",
       "        vertical-align: top;\n",
       "    }\n",
       "\n",
       "    .dataframe thead th {\n",
       "        text-align: right;\n",
       "    }\n",
       "</style>\n",
       "<table border=\"1\" class=\"dataframe\">\n",
       "  <thead>\n",
       "    <tr style=\"text-align: right;\">\n",
       "      <th></th>\n",
       "      <th>request_date</th>\n",
       "      <th>request_time</th>\n",
       "      <th>stkno</th>\n",
       "      <th>txtime</th>\n",
       "      <th>slblimit</th>\n",
       "      <th>ts</th>\n",
       "    </tr>\n",
       "  </thead>\n",
       "  <tbody>\n",
       "    <tr>\n",
       "      <th>10322</th>\n",
       "      <td>2022-11-29</td>\n",
       "      <td>08:53:12.717576</td>\n",
       "      <td>0050</td>\n",
       "      <td>08:46:18.94</td>\n",
       "      <td>430</td>\n",
       "      <td>8461894</td>\n",
       "    </tr>\n",
       "    <tr>\n",
       "      <th>10323</th>\n",
       "      <td>2022-11-29</td>\n",
       "      <td>08:53:12.717576</td>\n",
       "      <td>0051</td>\n",
       "      <td></td>\n",
       "      <td>4215</td>\n",
       "      <td>0</td>\n",
       "    </tr>\n",
       "    <tr>\n",
       "      <th>10324</th>\n",
       "      <td>2022-11-29</td>\n",
       "      <td>08:53:12.717576</td>\n",
       "      <td>0052</td>\n",
       "      <td></td>\n",
       "      <td>37004</td>\n",
       "      <td>0</td>\n",
       "    </tr>\n",
       "    <tr>\n",
       "      <th>10325</th>\n",
       "      <td>2022-11-29</td>\n",
       "      <td>08:53:12.717576</td>\n",
       "      <td>0053</td>\n",
       "      <td></td>\n",
       "      <td>885</td>\n",
       "      <td>0</td>\n",
       "    </tr>\n",
       "    <tr>\n",
       "      <th>10326</th>\n",
       "      <td>2022-11-29</td>\n",
       "      <td>08:53:12.717576</td>\n",
       "      <td>0055</td>\n",
       "      <td></td>\n",
       "      <td>26329</td>\n",
       "      <td>0</td>\n",
       "    </tr>\n",
       "    <tr>\n",
       "      <th>...</th>\n",
       "      <td>...</td>\n",
       "      <td>...</td>\n",
       "      <td>...</td>\n",
       "      <td>...</td>\n",
       "      <td>...</td>\n",
       "      <td>...</td>\n",
       "    </tr>\n",
       "    <tr>\n",
       "      <th>126587</th>\n",
       "      <td>2022-12-02</td>\n",
       "      <td>13:31:55.059995</td>\n",
       "      <td>9917</td>\n",
       "      <td>13:30:30.90</td>\n",
       "      <td>2477</td>\n",
       "      <td>13303090</td>\n",
       "    </tr>\n",
       "    <tr>\n",
       "      <th>126588</th>\n",
       "      <td>2022-12-02</td>\n",
       "      <td>13:32:44.173073</td>\n",
       "      <td>1101</td>\n",
       "      <td>13:31:41.65</td>\n",
       "      <td>27164</td>\n",
       "      <td>13314165</td>\n",
       "    </tr>\n",
       "    <tr>\n",
       "      <th>126589</th>\n",
       "      <td>2022-12-02</td>\n",
       "      <td>13:32:44.173073</td>\n",
       "      <td>2886</td>\n",
       "      <td>13:31:42.53</td>\n",
       "      <td>54368</td>\n",
       "      <td>13314253</td>\n",
       "    </tr>\n",
       "    <tr>\n",
       "      <th>126590</th>\n",
       "      <td>2022-12-02</td>\n",
       "      <td>14:01:40.240232</td>\n",
       "      <td>9921</td>\n",
       "      <td>14:01:11.66</td>\n",
       "      <td>123</td>\n",
       "      <td>14011166</td>\n",
       "    </tr>\n",
       "    <tr>\n",
       "      <th>126591</th>\n",
       "      <td>2022-12-02</td>\n",
       "      <td>15:28:40.846469</td>\n",
       "      <td>3617</td>\n",
       "      <td>15:28:03.03</td>\n",
       "      <td>53363</td>\n",
       "      <td>15280303</td>\n",
       "    </tr>\n",
       "  </tbody>\n",
       "</table>\n",
       "<p>116270 rows × 6 columns</p>\n",
       "</div>"
      ],
      "text/plain": [
       "       request_date     request_time stkno       txtime  slblimit        ts\n",
       "10322    2022-11-29  08:53:12.717576  0050  08:46:18.94       430   8461894\n",
       "10323    2022-11-29  08:53:12.717576  0051                   4215         0\n",
       "10324    2022-11-29  08:53:12.717576  0052                  37004         0\n",
       "10325    2022-11-29  08:53:12.717576  0053                    885         0\n",
       "10326    2022-11-29  08:53:12.717576  0055                  26329         0\n",
       "...             ...              ...   ...          ...       ...       ...\n",
       "126587   2022-12-02  13:31:55.059995  9917  13:30:30.90      2477  13303090\n",
       "126588   2022-12-02  13:32:44.173073  1101  13:31:41.65     27164  13314165\n",
       "126589   2022-12-02  13:32:44.173073  2886  13:31:42.53     54368  13314253\n",
       "126590   2022-12-02  14:01:40.240232  9921  14:01:11.66       123  14011166\n",
       "126591   2022-12-02  15:28:40.846469  3617  15:28:03.03     53363  15280303\n",
       "\n",
       "[116270 rows x 6 columns]"
      ]
     },
     "execution_count": 107,
     "metadata": {},
     "output_type": "execute_result"
    }
   ],
   "source": [
    "df.query(\"request_date <= @end_date \")"
   ]
  },
  {
   "cell_type": "code",
   "execution_count": 6,
   "metadata": {},
   "outputs": [],
   "source": [
    "# Utility functions\n",
    "def get_data(stkno_list:list, start_date, end_date, data):\n",
    "    return data.query(\"request_date <= @end_date & request_date >= @start_date & stkno in @stkno_list\")"
   ]
  },
  {
   "cell_type": "code",
   "execution_count": 108,
   "metadata": {},
   "outputs": [
    {
     "data": {
      "text/html": [
       "<div>\n",
       "<style scoped>\n",
       "    .dataframe tbody tr th:only-of-type {\n",
       "        vertical-align: middle;\n",
       "    }\n",
       "\n",
       "    .dataframe tbody tr th {\n",
       "        vertical-align: top;\n",
       "    }\n",
       "\n",
       "    .dataframe thead th {\n",
       "        text-align: right;\n",
       "    }\n",
       "</style>\n",
       "<table border=\"1\" class=\"dataframe\">\n",
       "  <thead>\n",
       "    <tr style=\"text-align: right;\">\n",
       "      <th></th>\n",
       "      <th>request_date</th>\n",
       "      <th>request_time</th>\n",
       "      <th>stkno</th>\n",
       "      <th>txtime</th>\n",
       "      <th>slblimit</th>\n",
       "      <th>ts</th>\n",
       "    </tr>\n",
       "  </thead>\n",
       "  <tbody>\n",
       "    <tr>\n",
       "      <th>123023</th>\n",
       "      <td>2022-12-02</td>\n",
       "      <td>13:02:33.334021</td>\n",
       "      <td>2330</td>\n",
       "      <td>13:02:16.78</td>\n",
       "      <td>3852144</td>\n",
       "      <td>13021678</td>\n",
       "    </tr>\n",
       "    <tr>\n",
       "      <th>123324</th>\n",
       "      <td>2022-12-02</td>\n",
       "      <td>13:03:42.023955</td>\n",
       "      <td>2330</td>\n",
       "      <td>13:03:00.45</td>\n",
       "      <td>3819144</td>\n",
       "      <td>13030045</td>\n",
       "    </tr>\n",
       "    <tr>\n",
       "      <th>123906</th>\n",
       "      <td>2022-12-02</td>\n",
       "      <td>13:08:38.260506</td>\n",
       "      <td>2330</td>\n",
       "      <td>13:07:28.50</td>\n",
       "      <td>3817144</td>\n",
       "      <td>13072850</td>\n",
       "    </tr>\n",
       "    <tr>\n",
       "      <th>124301</th>\n",
       "      <td>2022-12-02</td>\n",
       "      <td>13:13:43.851548</td>\n",
       "      <td>2330</td>\n",
       "      <td>13:13:24.43</td>\n",
       "      <td>3816144</td>\n",
       "      <td>13132443</td>\n",
       "    </tr>\n",
       "    <tr>\n",
       "      <th>124466</th>\n",
       "      <td>2022-12-02</td>\n",
       "      <td>13:15:32.968316</td>\n",
       "      <td>2330</td>\n",
       "      <td>13:15:00.04</td>\n",
       "      <td>3816144</td>\n",
       "      <td>13150004</td>\n",
       "    </tr>\n",
       "    <tr>\n",
       "      <th>125134</th>\n",
       "      <td>2022-12-02</td>\n",
       "      <td>13:22:35.802867</td>\n",
       "      <td>2330</td>\n",
       "      <td>13:22:15.33</td>\n",
       "      <td>3792144</td>\n",
       "      <td>13221533</td>\n",
       "    </tr>\n",
       "    <tr>\n",
       "      <th>125325</th>\n",
       "      <td>2022-12-02</td>\n",
       "      <td>13:22:56.029038</td>\n",
       "      <td>2330</td>\n",
       "      <td>13:22:24.57</td>\n",
       "      <td>3792144</td>\n",
       "      <td>13222457</td>\n",
       "    </tr>\n",
       "    <tr>\n",
       "      <th>125488</th>\n",
       "      <td>2022-12-02</td>\n",
       "      <td>13:23:41.660845</td>\n",
       "      <td>2330</td>\n",
       "      <td>13:23:15.58</td>\n",
       "      <td>3732144</td>\n",
       "      <td>13231558</td>\n",
       "    </tr>\n",
       "    <tr>\n",
       "      <th>125824</th>\n",
       "      <td>2022-12-02</td>\n",
       "      <td>13:25:32.229691</td>\n",
       "      <td>2330</td>\n",
       "      <td>13:25:20.65</td>\n",
       "      <td>3731144</td>\n",
       "      <td>13252065</td>\n",
       "    </tr>\n",
       "    <tr>\n",
       "      <th>126186</th>\n",
       "      <td>2022-12-02</td>\n",
       "      <td>13:30:33.101219</td>\n",
       "      <td>2330</td>\n",
       "      <td>13:29:59.50</td>\n",
       "      <td>3631144</td>\n",
       "      <td>13295950</td>\n",
       "    </tr>\n",
       "  </tbody>\n",
       "</table>\n",
       "</div>"
      ],
      "text/plain": [
       "       request_date     request_time stkno       txtime  slblimit        ts\n",
       "123023   2022-12-02  13:02:33.334021  2330  13:02:16.78   3852144  13021678\n",
       "123324   2022-12-02  13:03:42.023955  2330  13:03:00.45   3819144  13030045\n",
       "123906   2022-12-02  13:08:38.260506  2330  13:07:28.50   3817144  13072850\n",
       "124301   2022-12-02  13:13:43.851548  2330  13:13:24.43   3816144  13132443\n",
       "124466   2022-12-02  13:15:32.968316  2330  13:15:00.04   3816144  13150004\n",
       "125134   2022-12-02  13:22:35.802867  2330  13:22:15.33   3792144  13221533\n",
       "125325   2022-12-02  13:22:56.029038  2330  13:22:24.57   3792144  13222457\n",
       "125488   2022-12-02  13:23:41.660845  2330  13:23:15.58   3732144  13231558\n",
       "125824   2022-12-02  13:25:32.229691  2330  13:25:20.65   3731144  13252065\n",
       "126186   2022-12-02  13:30:33.101219  2330  13:29:59.50   3631144  13295950"
      ]
     },
     "execution_count": 108,
     "metadata": {},
     "output_type": "execute_result"
    }
   ],
   "source": [
    "start_date = '2022-11-28'\n",
    "end_date = '2022-12-02'\n",
    "stkno_list = ['0050', '2330']\n",
    "df_temp = get_data(stkno_list=stkno_list, start_date=start_date, end_date=end_date)\n",
    "df_temp.tail(10)"
   ]
  },
  {
   "cell_type": "code",
   "execution_count": 7,
   "metadata": {},
   "outputs": [],
   "source": [
    "def get_quota_used(stkno_list):\n",
    "    df_stk = df.query('stkno in @stkno_list')\n",
    "    return df_stk.groupby(['request_date', 'stkno']).apply(lambda x: (x['slblimit'].iloc[-1]/x['slblimit'].iloc[0]-1))"
   ]
  },
  {
   "cell_type": "code",
   "execution_count": 304,
   "metadata": {},
   "outputs": [
    {
     "data": {
      "text/plain": [
       "[<matplotlib.lines.Line2D at 0x1cca72fcd90>]"
      ]
     },
     "execution_count": 304,
     "metadata": {},
     "output_type": "execute_result"
    },
    {
     "data": {
      "image/png": "[encoded data removed]",
      "text/plain": [
       "<Figure size 640x480 with 1 Axes>"
      ]
     },
     "metadata": {},
     "output_type": "display_data"
    }
   ],
   "source": [
    "# Plotting the stock quota\n",
    "start_date = '2022-12-02'\n",
    "end_date = '2022-12-02'\n",
    "stkno_list = ['1513']\n",
    "df_temp = get_data(stkno_list=stkno_list, start_date=start_date, end_date=end_date)\n",
    "plt.plot(range(len(df_temp['slblimit'])), df_temp['slblimit'])"
   ]
  },
  {
   "cell_type": "markdown",
   "metadata": {},
   "source": [
    "Thigns to test with:\n",
    "1. Calculate a table showing every stock daily used short quota\n",
    "2. Calculate the velocity of short quota usages\n",
    "3. Hourly burn of quota"
   ]
  },
  {
   "cell_type": "code",
   "execution_count": 109,
   "metadata": {},
   "outputs": [
    {
     "name": "stdout",
     "output_type": "stream",
     "text": [
      "(('0050', Timestamp('2022-11-29 00:00:00')),       request_date     request_time stkno       txtime  slblimit        ts\n",
      "10322   2022-11-29  08:53:12.717576  0050  08:46:18.94       430   8461894\n",
      "38931   2022-11-29  13:28:40.712057  0050  13:27:56.92    241430  13275692)\n"
     ]
    }
   ],
   "source": [
    "# Calculating stock daily use of quota\n",
    "for gp in df.groupby(['stkno', 'request_date']):\n",
    "    print(gp)\n",
    "    break"
   ]
  },
  {
   "cell_type": "code",
   "execution_count": 110,
   "metadata": {},
   "outputs": [
    {
     "data": {
      "text/plain": [
       "stkno  request_date\n",
       "0050   2022-11-29      -241000\n",
       "       2022-11-30      -566000\n",
       "       2022-12-01       503000\n",
       "       2022-12-02      1367000\n",
       "0051   2022-11-29            0\n",
       "                        ...   \n",
       "9960   2022-12-02            0\n",
       "9962   2022-11-29            0\n",
       "       2022-11-30            0\n",
       "       2022-12-01            0\n",
       "       2022-12-02            0\n",
       "Length: 7062, dtype: int64"
      ]
     },
     "execution_count": 110,
     "metadata": {},
     "output_type": "execute_result"
    }
   ],
   "source": [
    "# This line can see the use of quota each date\n",
    "df_sq_group = df.groupby(['stkno', 'request_date'])\n",
    "df_sq_diff = df_sq_group.apply(lambda gp: gp['slblimit'].iloc[0]-gp['slblimit'].iloc[-1])\n",
    "df_sq_diff"
   ]
  },
  {
   "cell_type": "code",
   "execution_count": 126,
   "metadata": {},
   "outputs": [
    {
     "data": {
      "text/plain": [
       "stkno\n",
       "00632R    10636500.0\n",
       "2609       3927750.0\n",
       "0056       3289750.0\n",
       "2303       2680750.0\n",
       "2883       2606000.0\n",
       "3481       2272250.0\n",
       "00878      2251750.0\n",
       "2317       2145500.0\n",
       "1101       2043750.0\n",
       "2409       1892250.0\n",
       "dtype: float64"
      ]
     },
     "execution_count": 126,
     "metadata": {},
     "output_type": "execute_result"
    }
   ],
   "source": [
    "# Most changed in daily aggregated short quota in past 4 days\n",
    "df_sq_diff.groupby('stkno').apply(lambda x: x.abs().mean()).sort_values(ascending=False).head(10)"
   ]
  },
  {
   "cell_type": "code",
   "execution_count": 139,
   "metadata": {},
   "outputs": [
    {
     "data": {
      "text/plain": [
       "stkno\n",
       "2609      222.25\n",
       "00878     199.25\n",
       "006208    195.50\n",
       "00636     190.25\n",
       "4123      186.50\n",
       "00655L    182.25\n",
       "2303      179.25\n",
       "2317      176.25\n",
       "2610      167.75\n",
       "6180      162.00\n",
       "Name: slblimit, dtype: float64"
      ]
     },
     "execution_count": 139,
     "metadata": {},
     "output_type": "execute_result"
    }
   ],
   "source": [
    "# Most active stocks in security lending selling and buying in the past 4 days (most transactions)\n",
    "df_sq_group['slblimit'].count().groupby('stkno').mean().sort_values(ascending=False).head(10)"
   ]
  },
  {
   "cell_type": "code",
   "execution_count": null,
   "metadata": {},
   "outputs": [],
   "source": [
    "# Most changed in daily aggregated short quota in past 4 days\n",
    "df_sq_diff.groupby('stkno').apply(lambda x: x.abs().mean()).sort_values(ascending=False).head(10)"
   ]
  },
  {
   "cell_type": "code",
   "execution_count": 161,
   "metadata": {},
   "outputs": [],
   "source": [
    "# Overall volume transacted for all stocks on each date\n",
    "df_sq_tx_diff = df_sq_group.apply(lambda x: x['slblimit'].diff()).dropna()\n",
    "df_sq_tx_diff=df_sq_tx_diff.droplevel(2)"
   ]
  },
  {
   "cell_type": "code",
   "execution_count": 195,
   "metadata": {},
   "outputs": [
    {
     "data": {
      "text/plain": [
       "request_date\n",
       "2022-11-29     94523000\n",
       "2022-11-30     89981000\n",
       "2022-12-01    131338000\n",
       "2022-12-02    105193000\n",
       "dtype: int64"
      ]
     },
     "execution_count": 195,
     "metadata": {},
     "output_type": "execute_result"
    }
   ],
   "source": [
    "df_date_used_quota_overall = df.groupby(['request_date', 'stkno']).apply(lambda x: x['slblimit'].iloc[0] - x['slblimit'].iloc[-1]).groupby('request_date').sum()\n",
    "df_date_used_quota_overall.to_clipboard()\n",
    "df_date_used_quota_overall"
   ]
  },
  {
   "cell_type": "code",
   "execution_count": 17,
   "metadata": {},
   "outputs": [
    {
     "data": {
      "text/plain": [
       "MultiIndex([('2022-11-29',   '0051'),\n",
       "            ('2022-11-29',   '0052'),\n",
       "            ('2022-11-29',   '0053'),\n",
       "            ('2022-11-29',   '0055'),\n",
       "            ('2022-11-29',   '0056'),\n",
       "            ('2022-11-29',   '0057'),\n",
       "            ('2022-11-29',   '0061'),\n",
       "            ('2022-11-29', '006201'),\n",
       "            ('2022-11-29', '006203'),\n",
       "            ('2022-11-29', '006204'),\n",
       "            ...\n",
       "            ('2022-12-02',   '9942'),\n",
       "            ('2022-12-02',   '9943'),\n",
       "            ('2022-12-02',   '9944'),\n",
       "            ('2022-12-02',   '9945'),\n",
       "            ('2022-12-02',   '9946'),\n",
       "            ('2022-12-02',   '9951'),\n",
       "            ('2022-12-02',   '9955'),\n",
       "            ('2022-12-02',   '9958'),\n",
       "            ('2022-12-02',   '9960'),\n",
       "            ('2022-12-02',   '9962')],\n",
       "           names=['request_date', 'stkno'], length=5761)"
      ]
     },
     "execution_count": 17,
     "metadata": {},
     "output_type": "execute_result"
    }
   ],
   "source": [
    "df_valid_rows = df.groupby(['request_date', 'stkno']).apply(lambda x: x['txtime'].iloc[0] == \"\")\n",
    "df_valid_rows_idx = df_valid_rows[df_valid_rows].index\n",
    "df_valid_rows_idx"
   ]
  },
  {
   "cell_type": "code",
   "execution_count": 245,
   "metadata": {},
   "outputs": [
    {
     "data": {
      "text/plain": [
       "request_date  stkno\n",
       "2022-11-29    0050     560.465116\n",
       "              0051       0.000000\n",
       "              0052      -0.324289\n",
       "              0053       0.000000\n",
       "              0055       0.000000\n",
       "                          ...    \n",
       "2022-12-02    9951       0.000000\n",
       "              9955      -0.113074\n",
       "              9958      -0.232524\n",
       "              9960       0.000000\n",
       "              9962       0.000000\n",
       "Length: 7062, dtype: float64"
      ]
     },
     "execution_count": 245,
     "metadata": {},
     "output_type": "execute_result"
    }
   ],
   "source": [
    "# Quota consumption of popular stocks in each date\n",
    "df_daily_sq_change = df.groupby(['request_date', 'stkno']).apply(lambda x: (x['slblimit'].iloc[-1]/x['slblimit'].iloc[0]-1))\n",
    "df_daily_sq_change"
   ]
  },
  {
   "cell_type": "code",
   "execution_count": 253,
   "metadata": {},
   "outputs": [
    {
     "data": {
      "text/plain": [
       "stkno\n",
       "0050   -0.929530\n",
       "0051    0.000000\n",
       "0052   -0.108096\n",
       "0053    0.000000\n",
       "0055    0.000000\n",
       "          ...   \n",
       "9951    0.000000\n",
       "9955   -0.028269\n",
       "9958   -0.304243\n",
       "9960    0.000000\n",
       "9962    0.000000\n",
       "Length: 1637, dtype: float64"
      ]
     },
     "execution_count": 253,
     "metadata": {},
     "output_type": "execute_result"
    }
   ],
   "source": [
    "df_daily_sq_change[df_valid_rows_idx].groupby('stkno').mean()"
   ]
  },
  {
   "cell_type": "code",
   "execution_count": 317,
   "metadata": {},
   "outputs": [
    {
     "data": {
      "text/plain": [
       "stkno\n",
       "0056     -0.999915\n",
       "2486     -0.998965\n",
       "3034     -0.997999\n",
       "2441     -0.997992\n",
       "6505     -0.996799\n",
       "3576     -0.995326\n",
       "2356     -0.994031\n",
       "1455     -0.993834\n",
       "8926     -0.993087\n",
       "1314     -0.991795\n",
       "2609     -0.991640\n",
       "2006     -0.987789\n",
       "3036     -0.987376\n",
       "00900    -0.987099\n",
       "1303     -0.984046\n",
       "2539     -0.983970\n",
       "2881     -0.983771\n",
       "1304     -0.982072\n",
       "1718     -0.979053\n",
       "2412     -0.976264\n",
       "1101     -0.973760\n",
       "2906     -0.973121\n",
       "2886     -0.972974\n",
       "5876     -0.972428\n",
       "9921     -0.967746\n",
       "4916     -0.966846\n",
       "5880     -0.961376\n",
       "1717     -0.953382\n",
       "1210     -0.949491\n",
       "1785     -0.934037\n",
       "5607     -0.932874\n",
       "9908     -0.931649\n",
       "2885     -0.931199\n",
       "00679B   -0.912166\n",
       "2227     -0.891056\n",
       "1712     -0.890186\n",
       "2548     -0.886464\n",
       "2417     -0.882278\n",
       "6277     -0.875125\n",
       "1440     -0.874582\n",
       "4137     -0.864761\n",
       "9917     -0.860358\n",
       "3045     -0.843426\n",
       "2354     -0.842446\n",
       "2385     -0.835631\n",
       "3704     -0.830263\n",
       "2489     -0.824092\n",
       "6672     -0.821111\n",
       "6233     -0.820543\n",
       "3049     -0.819552\n",
       "dtype: float64"
      ]
     },
     "execution_count": 317,
     "metadata": {},
     "output_type": "execute_result"
    }
   ],
   "source": [
    "df_daily_sq_change.groupby('stkno').mean().sort_values().head(50)\n",
    "# df_daily_sq_change[df_valid_rows_idx].groupby('stkno').mean().sort_values().head(50)"
   ]
  },
  {
   "cell_type": "code",
   "execution_count": 312,
   "metadata": {},
   "outputs": [],
   "source": [
    "# Stocks' average number of transaction\n",
    "df.groupby(['request_date','stkno']).apply(lambda x: x['slblimit'].count()).groupby('stkno').mean().sort_values(ascending=False).head(50)"
   ]
  },
  {
   "cell_type": "code",
   "execution_count": 298,
   "metadata": {},
   "outputs": [
    {
     "data": {
      "text/plain": [
       "stkno\n",
       "00878     188.000000\n",
       "1513      151.000000\n",
       "2530      121.000000\n",
       "3481      119.500000\n",
       "8069      110.500000\n",
       "1712      101.000000\n",
       "4919       97.000000\n",
       "2027       95.000000\n",
       "2637       92.000000\n",
       "1444       88.000000\n",
       "4128       86.666667\n",
       "8926       85.000000\n",
       "2481       84.333333\n",
       "3062       84.000000\n",
       "2408       83.000000\n",
       "9945       82.666667\n",
       "2888       78.500000\n",
       "1802       77.000000\n",
       "1312       77.000000\n",
       "00692      76.000000\n",
       "0056       75.500000\n",
       "4915       74.000000\n",
       "4164       70.000000\n",
       "8454       70.000000\n",
       "1304       69.000000\n",
       "1467       68.666667\n",
       "4927       68.333333\n",
       "2388       67.000000\n",
       "6213       67.000000\n",
       "2606       66.000000\n",
       "0052       65.666667\n",
       "5607       64.000000\n",
       "1609       63.333333\n",
       "1722       63.000000\n",
       "2201       61.000000\n",
       "2615       61.000000\n",
       "9958       60.333333\n",
       "2383       60.000000\n",
       "00632R     57.000000\n",
       "3704       56.333333\n",
       "2455       54.500000\n",
       "2883       54.000000\n",
       "2603       54.000000\n",
       "8081       54.000000\n",
       "2354       53.000000\n",
       "8299       52.666667\n",
       "2915       51.000000\n",
       "2313       50.500000\n",
       "8358       50.000000\n",
       "2352       49.000000\n",
       "dtype: float64"
      ]
     },
     "execution_count": 298,
     "metadata": {},
     "output_type": "execute_result"
    }
   ],
   "source": [
    "df.groupby(['request_date','stkno']).apply(lambda x: (x['slblimit'].diff().abs()>0).sum())[df_valid_rows_idx].groupby('stkno').mean().sort_values(ascending=False).head(50)"
   ]
  },
  {
   "cell_type": "code",
   "execution_count": 79,
   "metadata": {},
   "outputs": [
    {
     "data": {
      "text/html": [
       "<div>\n",
       "<style scoped>\n",
       "    .dataframe tbody tr th:only-of-type {\n",
       "        vertical-align: middle;\n",
       "    }\n",
       "\n",
       "    .dataframe tbody tr th {\n",
       "        vertical-align: top;\n",
       "    }\n",
       "\n",
       "    .dataframe thead th {\n",
       "        text-align: right;\n",
       "    }\n",
       "</style>\n",
       "<table border=\"1\" class=\"dataframe\">\n",
       "  <thead>\n",
       "    <tr style=\"text-align: right;\">\n",
       "      <th></th>\n",
       "      <th>request_date</th>\n",
       "      <th>request_time</th>\n",
       "      <th>stkno</th>\n",
       "      <th>txtime</th>\n",
       "      <th>slblimit</th>\n",
       "      <th>ts</th>\n",
       "    </tr>\n",
       "  </thead>\n",
       "  <tbody>\n",
       "    <tr>\n",
       "      <th>10323</th>\n",
       "      <td>2022-11-29</td>\n",
       "      <td>08:53:12.717576</td>\n",
       "      <td>0051</td>\n",
       "      <td></td>\n",
       "      <td>4215</td>\n",
       "      <td>0</td>\n",
       "    </tr>\n",
       "    <tr>\n",
       "      <th>39165</th>\n",
       "      <td>2022-11-30</td>\n",
       "      <td>09:08:30.652226</td>\n",
       "      <td>0051</td>\n",
       "      <td></td>\n",
       "      <td>4220</td>\n",
       "      <td>0</td>\n",
       "    </tr>\n",
       "    <tr>\n",
       "      <th>66268</th>\n",
       "      <td>2022-12-01</td>\n",
       "      <td>08:55:23.221537</td>\n",
       "      <td>0051</td>\n",
       "      <td></td>\n",
       "      <td>4495</td>\n",
       "      <td>0</td>\n",
       "    </tr>\n",
       "    <tr>\n",
       "      <th>96907</th>\n",
       "      <td>2022-12-02</td>\n",
       "      <td>08:51:11.240436</td>\n",
       "      <td>0051</td>\n",
       "      <td></td>\n",
       "      <td>4568</td>\n",
       "      <td>0</td>\n",
       "    </tr>\n",
       "  </tbody>\n",
       "</table>\n",
       "</div>"
      ],
      "text/plain": [
       "      request_date     request_time stkno txtime  slblimit  ts\n",
       "10323   2022-11-29  08:53:12.717576  0051             4215   0\n",
       "39165   2022-11-30  09:08:30.652226  0051             4220   0\n",
       "66268   2022-12-01  08:55:23.221537  0051             4495   0\n",
       "96907   2022-12-02  08:51:11.240436  0051             4568   0"
      ]
     },
     "execution_count": 79,
     "metadata": {},
     "output_type": "execute_result"
    }
   ],
   "source": [
    "# Which hour is the busiest hour?\n",
    "# Calculate the quota usage in every hour\n",
    "# Calculate the diff, then sum the abs diff within each hour\n",
    "get_data(['0051'], '2022-11-29', '2022-12-02', df)"
   ]
  },
  {
   "cell_type": "code",
   "execution_count": 8,
   "metadata": {},
   "outputs": [
    {
     "data": {
      "text/plain": [
       "['08:00:00.00',\n",
       " '09:00:00.00',\n",
       " '10:00:00.00',\n",
       " '11:00:00.00',\n",
       " '12:00:00.00',\n",
       " '13:00:00.00',\n",
       " '14:00:00.00',\n",
       " '15:00:00.00',\n",
       " '16:00:00.00']"
      ]
     },
     "execution_count": 8,
     "metadata": {},
     "output_type": "execute_result"
    }
   ],
   "source": [
    "hour_list = [f'{\"0\"*(1-(hour)//10)}{hour}:00:00.00' for hour in range(8, 17)]\n",
    "hour_list"
   ]
  },
  {
   "cell_type": "code",
   "execution_count": 9,
   "metadata": {},
   "outputs": [],
   "source": [
    "date_vol = {}\n",
    "for date in df['request_date'].unique():\n",
    "    df_hour = df.query(\"request_date == @date\")\n",
    "    date_vol[date] = {}\n",
    "    for i in range(len(hour_list)-1):\n",
    "        start_time = hour_list[i]\n",
    "        end_time = hour_list[i+1]\n",
    "        total_turnover = df_hour.query(\"txtime >= @start_time & txtime < @end_time\")['slblimit'].diff().abs().sum()\n",
    "        date_vol[date][end_time] = total_turnover\n",
    "        # print(start_time, '-', end_time, total_turnover)\n",
    "        # print('-'*50)"
   ]
  },
  {
   "cell_type": "code",
   "execution_count": 10,
   "metadata": {},
   "outputs": [],
   "source": [
    "df_total_turnover = pd.DataFrame.from_dict(date_vol).mean(axis=1)"
   ]
  },
  {
   "cell_type": "code",
   "execution_count": 13,
   "metadata": {},
   "outputs": [
    {
     "data": {
      "image/png": "[encoded data removed]",
      "text/plain": [
       "<Figure size 640x480 with 1 Axes>"
      ]
     },
     "metadata": {},
     "output_type": "display_data"
    }
   ],
   "source": [
    "plt.bar(df_total_turnover.index, df_total_turnover)\n",
    "plt.gcf().autofmt_xdate()"
   ]
  },
  {
   "cell_type": "code",
   "execution_count": 22,
   "metadata": {},
   "outputs": [],
   "source": [
    "# Overall % of quota used in each hour\n",
    "df_pct_hour = df.copy()\n",
    "df_pct_hour = df_pct_hour.sort_values(['request_date', 'stkno'])\n",
    "df_pct_hour['pct_of_open'] = df.groupby(['request_date', 'stkno']).apply(lambda x: x['slblimit'] / x['slblimit'].iloc[0]).values"
   ]
  },
  {
   "cell_type": "code",
   "execution_count": 23,
   "metadata": {},
   "outputs": [
    {
     "data": {
      "text/html": [
       "<div>\n",
       "<style scoped>\n",
       "    .dataframe tbody tr th:only-of-type {\n",
       "        vertical-align: middle;\n",
       "    }\n",
       "\n",
       "    .dataframe tbody tr th {\n",
       "        vertical-align: top;\n",
       "    }\n",
       "\n",
       "    .dataframe thead th {\n",
       "        text-align: right;\n",
       "    }\n",
       "</style>\n",
       "<table border=\"1\" class=\"dataframe\">\n",
       "  <thead>\n",
       "    <tr style=\"text-align: right;\">\n",
       "      <th></th>\n",
       "      <th>request_date</th>\n",
       "      <th>request_time</th>\n",
       "      <th>stkno</th>\n",
       "      <th>txtime</th>\n",
       "      <th>slblimit</th>\n",
       "      <th>ts</th>\n",
       "      <th>pct_of_open</th>\n",
       "    </tr>\n",
       "  </thead>\n",
       "  <tbody>\n",
       "    <tr>\n",
       "      <th>10322</th>\n",
       "      <td>2022-11-29</td>\n",
       "      <td>08:53:12.717576</td>\n",
       "      <td>0050</td>\n",
       "      <td>08:46:18.94</td>\n",
       "      <td>430</td>\n",
       "      <td>8461894</td>\n",
       "      <td>1.000000</td>\n",
       "    </tr>\n",
       "    <tr>\n",
       "      <th>38931</th>\n",
       "      <td>2022-11-29</td>\n",
       "      <td>13:28:40.712057</td>\n",
       "      <td>0050</td>\n",
       "      <td>13:27:56.92</td>\n",
       "      <td>241430</td>\n",
       "      <td>13275692</td>\n",
       "      <td>561.465116</td>\n",
       "    </tr>\n",
       "    <tr>\n",
       "      <th>10323</th>\n",
       "      <td>2022-11-29</td>\n",
       "      <td>08:53:12.717576</td>\n",
       "      <td>0051</td>\n",
       "      <td></td>\n",
       "      <td>4215</td>\n",
       "      <td>0</td>\n",
       "      <td>1.000000</td>\n",
       "    </tr>\n",
       "    <tr>\n",
       "      <th>10324</th>\n",
       "      <td>2022-11-29</td>\n",
       "      <td>08:53:12.717576</td>\n",
       "      <td>0052</td>\n",
       "      <td></td>\n",
       "      <td>37004</td>\n",
       "      <td>0</td>\n",
       "      <td>1.000000</td>\n",
       "    </tr>\n",
       "    <tr>\n",
       "      <th>12272</th>\n",
       "      <td>2022-11-29</td>\n",
       "      <td>09:00:25.390449</td>\n",
       "      <td>0052</td>\n",
       "      <td>08:59:59.65</td>\n",
       "      <td>37004</td>\n",
       "      <td>8595965</td>\n",
       "      <td>1.000000</td>\n",
       "    </tr>\n",
       "    <tr>\n",
       "      <th>...</th>\n",
       "      <td>...</td>\n",
       "      <td>...</td>\n",
       "      <td>...</td>\n",
       "      <td>...</td>\n",
       "      <td>...</td>\n",
       "      <td>...</td>\n",
       "      <td>...</td>\n",
       "    </tr>\n",
       "    <tr>\n",
       "      <th>123790</th>\n",
       "      <td>2022-12-02</td>\n",
       "      <td>13:06:37.482952</td>\n",
       "      <td>9958</td>\n",
       "      <td>13:05:26.72</td>\n",
       "      <td>297855</td>\n",
       "      <td>13052672</td>\n",
       "      <td>0.805329</td>\n",
       "    </tr>\n",
       "    <tr>\n",
       "      <th>125308</th>\n",
       "      <td>2022-12-02</td>\n",
       "      <td>13:22:35.802867</td>\n",
       "      <td>9958</td>\n",
       "      <td>13:22:11.34</td>\n",
       "      <td>284855</td>\n",
       "      <td>13221134</td>\n",
       "      <td>0.770180</td>\n",
       "    </tr>\n",
       "    <tr>\n",
       "      <th>126426</th>\n",
       "      <td>2022-12-02</td>\n",
       "      <td>13:30:33.101219</td>\n",
       "      <td>9958</td>\n",
       "      <td>13:29:59.81</td>\n",
       "      <td>283855</td>\n",
       "      <td>13295981</td>\n",
       "      <td>0.767476</td>\n",
       "    </tr>\n",
       "    <tr>\n",
       "      <th>98670</th>\n",
       "      <td>2022-12-02</td>\n",
       "      <td>08:51:11.240436</td>\n",
       "      <td>9960</td>\n",
       "      <td></td>\n",
       "      <td>7636</td>\n",
       "      <td>0</td>\n",
       "      <td>1.000000</td>\n",
       "    </tr>\n",
       "    <tr>\n",
       "      <th>98671</th>\n",
       "      <td>2022-12-02</td>\n",
       "      <td>08:51:11.240436</td>\n",
       "      <td>9962</td>\n",
       "      <td></td>\n",
       "      <td>32807</td>\n",
       "      <td>0</td>\n",
       "      <td>1.000000</td>\n",
       "    </tr>\n",
       "  </tbody>\n",
       "</table>\n",
       "<p>116270 rows × 7 columns</p>\n",
       "</div>"
      ],
      "text/plain": [
       "       request_date     request_time stkno       txtime  slblimit        ts  \\\n",
       "10322    2022-11-29  08:53:12.717576  0050  08:46:18.94       430   8461894   \n",
       "38931    2022-11-29  13:28:40.712057  0050  13:27:56.92    241430  13275692   \n",
       "10323    2022-11-29  08:53:12.717576  0051                   4215         0   \n",
       "10324    2022-11-29  08:53:12.717576  0052                  37004         0   \n",
       "12272    2022-11-29  09:00:25.390449  0052  08:59:59.65     37004   8595965   \n",
       "...             ...              ...   ...          ...       ...       ...   \n",
       "123790   2022-12-02  13:06:37.482952  9958  13:05:26.72    297855  13052672   \n",
       "125308   2022-12-02  13:22:35.802867  9958  13:22:11.34    284855  13221134   \n",
       "126426   2022-12-02  13:30:33.101219  9958  13:29:59.81    283855  13295981   \n",
       "98670    2022-12-02  08:51:11.240436  9960                   7636         0   \n",
       "98671    2022-12-02  08:51:11.240436  9962                  32807         0   \n",
       "\n",
       "        pct_of_open  \n",
       "10322      1.000000  \n",
       "38931    561.465116  \n",
       "10323      1.000000  \n",
       "10324      1.000000  \n",
       "12272      1.000000  \n",
       "...             ...  \n",
       "123790     0.805329  \n",
       "125308     0.770180  \n",
       "126426     0.767476  \n",
       "98670      1.000000  \n",
       "98671      1.000000  \n",
       "\n",
       "[116270 rows x 7 columns]"
      ]
     },
     "execution_count": 23,
     "metadata": {},
     "output_type": "execute_result"
    }
   ],
   "source": [
    "df_pct_hour"
   ]
  },
  {
   "cell_type": "code",
   "execution_count": 24,
   "metadata": {},
   "outputs": [
    {
     "data": {
      "text/html": [
       "<div>\n",
       "<style scoped>\n",
       "    .dataframe tbody tr th:only-of-type {\n",
       "        vertical-align: middle;\n",
       "    }\n",
       "\n",
       "    .dataframe tbody tr th {\n",
       "        vertical-align: top;\n",
       "    }\n",
       "\n",
       "    .dataframe thead th {\n",
       "        text-align: right;\n",
       "    }\n",
       "</style>\n",
       "<table border=\"1\" class=\"dataframe\">\n",
       "  <thead>\n",
       "    <tr style=\"text-align: right;\">\n",
       "      <th></th>\n",
       "      <th>request_date</th>\n",
       "      <th>stkno</th>\n",
       "      <th>request_time</th>\n",
       "      <th>txtime</th>\n",
       "      <th>slblimit</th>\n",
       "      <th>ts</th>\n",
       "      <th>pct_of_open</th>\n",
       "    </tr>\n",
       "  </thead>\n",
       "  <tbody>\n",
       "    <tr>\n",
       "      <th>0</th>\n",
       "      <td>2022-11-29</td>\n",
       "      <td>0051</td>\n",
       "      <td>08:53:12.717576</td>\n",
       "      <td></td>\n",
       "      <td>4215</td>\n",
       "      <td>0</td>\n",
       "      <td>1.000000</td>\n",
       "    </tr>\n",
       "    <tr>\n",
       "      <th>1</th>\n",
       "      <td>2022-11-29</td>\n",
       "      <td>0052</td>\n",
       "      <td>08:53:12.717576</td>\n",
       "      <td></td>\n",
       "      <td>37004</td>\n",
       "      <td>0</td>\n",
       "      <td>1.000000</td>\n",
       "    </tr>\n",
       "    <tr>\n",
       "      <th>2</th>\n",
       "      <td>2022-11-29</td>\n",
       "      <td>0052</td>\n",
       "      <td>09:00:25.390449</td>\n",
       "      <td>08:59:59.65</td>\n",
       "      <td>37004</td>\n",
       "      <td>8595965</td>\n",
       "      <td>1.000000</td>\n",
       "    </tr>\n",
       "    <tr>\n",
       "      <th>3</th>\n",
       "      <td>2022-11-29</td>\n",
       "      <td>0052</td>\n",
       "      <td>09:01:28.784991</td>\n",
       "      <td>09:01:05.74</td>\n",
       "      <td>29004</td>\n",
       "      <td>9010574</td>\n",
       "      <td>0.783807</td>\n",
       "    </tr>\n",
       "    <tr>\n",
       "      <th>4</th>\n",
       "      <td>2022-11-29</td>\n",
       "      <td>0052</td>\n",
       "      <td>09:02:26.160528</td>\n",
       "      <td>09:01:51.67</td>\n",
       "      <td>25004</td>\n",
       "      <td>9015167</td>\n",
       "      <td>0.675711</td>\n",
       "    </tr>\n",
       "    <tr>\n",
       "      <th>...</th>\n",
       "      <td>...</td>\n",
       "      <td>...</td>\n",
       "      <td>...</td>\n",
       "      <td>...</td>\n",
       "      <td>...</td>\n",
       "      <td>...</td>\n",
       "      <td>...</td>\n",
       "    </tr>\n",
       "    <tr>\n",
       "      <th>58555</th>\n",
       "      <td>2022-12-02</td>\n",
       "      <td>9958</td>\n",
       "      <td>13:06:37.482952</td>\n",
       "      <td>13:05:26.72</td>\n",
       "      <td>297855</td>\n",
       "      <td>13052672</td>\n",
       "      <td>0.805329</td>\n",
       "    </tr>\n",
       "    <tr>\n",
       "      <th>58556</th>\n",
       "      <td>2022-12-02</td>\n",
       "      <td>9958</td>\n",
       "      <td>13:22:35.802867</td>\n",
       "      <td>13:22:11.34</td>\n",
       "      <td>284855</td>\n",
       "      <td>13221134</td>\n",
       "      <td>0.770180</td>\n",
       "    </tr>\n",
       "    <tr>\n",
       "      <th>58557</th>\n",
       "      <td>2022-12-02</td>\n",
       "      <td>9958</td>\n",
       "      <td>13:30:33.101219</td>\n",
       "      <td>13:29:59.81</td>\n",
       "      <td>283855</td>\n",
       "      <td>13295981</td>\n",
       "      <td>0.767476</td>\n",
       "    </tr>\n",
       "    <tr>\n",
       "      <th>58558</th>\n",
       "      <td>2022-12-02</td>\n",
       "      <td>9960</td>\n",
       "      <td>08:51:11.240436</td>\n",
       "      <td></td>\n",
       "      <td>7636</td>\n",
       "      <td>0</td>\n",
       "      <td>1.000000</td>\n",
       "    </tr>\n",
       "    <tr>\n",
       "      <th>58559</th>\n",
       "      <td>2022-12-02</td>\n",
       "      <td>9962</td>\n",
       "      <td>08:51:11.240436</td>\n",
       "      <td></td>\n",
       "      <td>32807</td>\n",
       "      <td>0</td>\n",
       "      <td>1.000000</td>\n",
       "    </tr>\n",
       "  </tbody>\n",
       "</table>\n",
       "<p>58560 rows × 7 columns</p>\n",
       "</div>"
      ],
      "text/plain": [
       "      request_date stkno     request_time       txtime  slblimit        ts  \\\n",
       "0       2022-11-29  0051  08:53:12.717576                   4215         0   \n",
       "1       2022-11-29  0052  08:53:12.717576                  37004         0   \n",
       "2       2022-11-29  0052  09:00:25.390449  08:59:59.65     37004   8595965   \n",
       "3       2022-11-29  0052  09:01:28.784991  09:01:05.74     29004   9010574   \n",
       "4       2022-11-29  0052  09:02:26.160528  09:01:51.67     25004   9015167   \n",
       "...            ...   ...              ...          ...       ...       ...   \n",
       "58555   2022-12-02  9958  13:06:37.482952  13:05:26.72    297855  13052672   \n",
       "58556   2022-12-02  9958  13:22:35.802867  13:22:11.34    284855  13221134   \n",
       "58557   2022-12-02  9958  13:30:33.101219  13:29:59.81    283855  13295981   \n",
       "58558   2022-12-02  9960  08:51:11.240436                   7636         0   \n",
       "58559   2022-12-02  9962  08:51:11.240436                  32807         0   \n",
       "\n",
       "       pct_of_open  \n",
       "0         1.000000  \n",
       "1         1.000000  \n",
       "2         1.000000  \n",
       "3         0.783807  \n",
       "4         0.675711  \n",
       "...            ...  \n",
       "58555     0.805329  \n",
       "58556     0.770180  \n",
       "58557     0.767476  \n",
       "58558     1.000000  \n",
       "58559     1.000000  \n",
       "\n",
       "[58560 rows x 7 columns]"
      ]
     },
     "execution_count": 24,
     "metadata": {},
     "output_type": "execute_result"
    }
   ],
   "source": [
    "df_pct_hour_wf_invalid = df_pct_hour.copy()\n",
    "df_pct_hour = df_pct_hour.set_index(['request_date', 'stkno']).loc[df_valid_rows_idx]\n",
    "df_pct_hour = df_pct_hour.reset_index()\n",
    "df_pct_hour"
   ]
  },
  {
   "cell_type": "code",
   "execution_count": 74,
   "metadata": {},
   "outputs": [
    {
     "data": {
      "text/plain": [
       "True"
      ]
     },
     "execution_count": 74,
     "metadata": {},
     "output_type": "execute_result"
    }
   ],
   "source": [
    "start_time = '11:00:00.00'\n",
    "end_time = '12:00:00.00'\n",
    "df_hour.query(\"txtime >= @start_time & txtime < @end_time & stkno == @stk\").tail(1).empty"
   ]
  },
  {
   "cell_type": "code",
   "execution_count": 25,
   "metadata": {},
   "outputs": [
    {
     "ename": "KeyboardInterrupt",
     "evalue": "",
     "output_type": "error",
     "traceback": [
      "\u001b[1;31m---------------------------------------------------------------------------\u001b[0m",
      "\u001b[1;31mKeyboardInterrupt\u001b[0m                         Traceback (most recent call last)",
      "Cell \u001b[1;32mIn[25], line 13\u001b[0m\n\u001b[0;32m     11\u001b[0m df_temp \u001b[39m=\u001b[39m df_hour\u001b[39m.\u001b[39mquery(\u001b[39m\"\u001b[39m\u001b[39mtxtime >= @start_time & txtime < @end_time & stkno == @stk\u001b[39m\u001b[39m\"\u001b[39m)\n\u001b[0;32m     12\u001b[0m \u001b[39mif\u001b[39;00m df_temp\u001b[39m.\u001b[39mempty:\n\u001b[1;32m---> 13\u001b[0m     df_temp \u001b[39m=\u001b[39m df_hour\u001b[39m.\u001b[39;49mquery(\u001b[39m\"\u001b[39;49m\u001b[39mtxtime < @end_time & stkno == @stk\u001b[39;49m\u001b[39m\"\u001b[39;49m)\n\u001b[0;32m     14\u001b[0m \u001b[39mif\u001b[39;00m \u001b[39mnot\u001b[39;00m df_temp\u001b[39m.\u001b[39mempty:\n\u001b[0;32m     15\u001b[0m     hour_stk_pct_dict[stk] \u001b[39m=\u001b[39m df_temp\u001b[39m.\u001b[39miloc[\u001b[39m-\u001b[39m\u001b[39m1\u001b[39m][\u001b[39m'\u001b[39m\u001b[39mpct_of_open\u001b[39m\u001b[39m'\u001b[39m]\n",
      "File \u001b[1;32mc:\\Users\\Edrick\\PycharmProjects\\pythonProject\\twse_sq_scraper\\venv\\lib\\site-packages\\pandas\\util\\_decorators.py:331\u001b[0m, in \u001b[0;36mdeprecate_nonkeyword_arguments.<locals>.decorate.<locals>.wrapper\u001b[1;34m(*args, **kwargs)\u001b[0m\n\u001b[0;32m    325\u001b[0m \u001b[39mif\u001b[39;00m \u001b[39mlen\u001b[39m(args) \u001b[39m>\u001b[39m num_allow_args:\n\u001b[0;32m    326\u001b[0m     warnings\u001b[39m.\u001b[39mwarn(\n\u001b[0;32m    327\u001b[0m         msg\u001b[39m.\u001b[39mformat(arguments\u001b[39m=\u001b[39m_format_argument_list(allow_args)),\n\u001b[0;32m    328\u001b[0m         \u001b[39mFutureWarning\u001b[39;00m,\n\u001b[0;32m    329\u001b[0m         stacklevel\u001b[39m=\u001b[39mfind_stack_level(),\n\u001b[0;32m    330\u001b[0m     )\n\u001b[1;32m--> 331\u001b[0m \u001b[39mreturn\u001b[39;00m func(\u001b[39m*\u001b[39margs, \u001b[39m*\u001b[39m\u001b[39m*\u001b[39mkwargs)\n",
      "File \u001b[1;32mc:\\Users\\Edrick\\PycharmProjects\\pythonProject\\twse_sq_scraper\\venv\\lib\\site-packages\\pandas\\core\\frame.py:4471\u001b[0m, in \u001b[0;36mDataFrame.query\u001b[1;34m(self, expr, inplace, **kwargs)\u001b[0m\n\u001b[0;32m   4469\u001b[0m kwargs[\u001b[39m\"\u001b[39m\u001b[39mlevel\u001b[39m\u001b[39m\"\u001b[39m] \u001b[39m=\u001b[39m kwargs\u001b[39m.\u001b[39mpop(\u001b[39m\"\u001b[39m\u001b[39mlevel\u001b[39m\u001b[39m\"\u001b[39m, \u001b[39m0\u001b[39m) \u001b[39m+\u001b[39m \u001b[39m2\u001b[39m\n\u001b[0;32m   4470\u001b[0m kwargs[\u001b[39m\"\u001b[39m\u001b[39mtarget\u001b[39m\u001b[39m\"\u001b[39m] \u001b[39m=\u001b[39m \u001b[39mNone\u001b[39;00m\n\u001b[1;32m-> 4471\u001b[0m res \u001b[39m=\u001b[39m \u001b[39mself\u001b[39m\u001b[39m.\u001b[39meval(expr, \u001b[39m*\u001b[39m\u001b[39m*\u001b[39mkwargs)\n\u001b[0;32m   4473\u001b[0m \u001b[39mtry\u001b[39;00m:\n\u001b[0;32m   4474\u001b[0m     result \u001b[39m=\u001b[39m \u001b[39mself\u001b[39m\u001b[39m.\u001b[39mloc[res]\n",
      "File \u001b[1;32mc:\\Users\\Edrick\\PycharmProjects\\pythonProject\\twse_sq_scraper\\venv\\lib\\site-packages\\pandas\\util\\_decorators.py:331\u001b[0m, in \u001b[0;36mdeprecate_nonkeyword_arguments.<locals>.decorate.<locals>.wrapper\u001b[1;34m(*args, **kwargs)\u001b[0m\n\u001b[0;32m    325\u001b[0m \u001b[39mif\u001b[39;00m \u001b[39mlen\u001b[39m(args) \u001b[39m>\u001b[39m num_allow_args:\n\u001b[0;32m    326\u001b[0m     warnings\u001b[39m.\u001b[39mwarn(\n\u001b[0;32m    327\u001b[0m         msg\u001b[39m.\u001b[39mformat(arguments\u001b[39m=\u001b[39m_format_argument_list(allow_args)),\n\u001b[0;32m    328\u001b[0m         \u001b[39mFutureWarning\u001b[39;00m,\n\u001b[0;32m    329\u001b[0m         stacklevel\u001b[39m=\u001b[39mfind_stack_level(),\n\u001b[0;32m    330\u001b[0m     )\n\u001b[1;32m--> 331\u001b[0m \u001b[39mreturn\u001b[39;00m func(\u001b[39m*\u001b[39margs, \u001b[39m*\u001b[39m\u001b[39m*\u001b[39mkwargs)\n",
      "File \u001b[1;32mc:\\Users\\Edrick\\PycharmProjects\\pythonProject\\twse_sq_scraper\\venv\\lib\\site-packages\\pandas\\core\\frame.py:4602\u001b[0m, in \u001b[0;36mDataFrame.eval\u001b[1;34m(self, expr, inplace, **kwargs)\u001b[0m\n\u001b[0;32m   4600\u001b[0m inplace \u001b[39m=\u001b[39m validate_bool_kwarg(inplace, \u001b[39m\"\u001b[39m\u001b[39minplace\u001b[39m\u001b[39m\"\u001b[39m)\n\u001b[0;32m   4601\u001b[0m kwargs[\u001b[39m\"\u001b[39m\u001b[39mlevel\u001b[39m\u001b[39m\"\u001b[39m] \u001b[39m=\u001b[39m kwargs\u001b[39m.\u001b[39mpop(\u001b[39m\"\u001b[39m\u001b[39mlevel\u001b[39m\u001b[39m\"\u001b[39m, \u001b[39m0\u001b[39m) \u001b[39m+\u001b[39m \u001b[39m2\u001b[39m\n\u001b[1;32m-> 4602\u001b[0m index_resolvers \u001b[39m=\u001b[39m \u001b[39mself\u001b[39;49m\u001b[39m.\u001b[39;49m_get_index_resolvers()\n\u001b[0;32m   4603\u001b[0m column_resolvers \u001b[39m=\u001b[39m \u001b[39mself\u001b[39m\u001b[39m.\u001b[39m_get_cleaned_column_resolvers()\n\u001b[0;32m   4604\u001b[0m resolvers \u001b[39m=\u001b[39m column_resolvers, index_resolvers\n",
      "File \u001b[1;32mc:\\Users\\Edrick\\PycharmProjects\\pythonProject\\twse_sq_scraper\\venv\\lib\\site-packages\\pandas\\core\\generic.py:618\u001b[0m, in \u001b[0;36mNDFrame._get_index_resolvers\u001b[1;34m(self)\u001b[0m\n\u001b[0;32m    616\u001b[0m d: \u001b[39mdict\u001b[39m[\u001b[39mstr\u001b[39m, Series \u001b[39m|\u001b[39m MultiIndex] \u001b[39m=\u001b[39m {}\n\u001b[0;32m    617\u001b[0m \u001b[39mfor\u001b[39;00m axis_name \u001b[39min\u001b[39;00m \u001b[39mself\u001b[39m\u001b[39m.\u001b[39m_AXIS_ORDERS:\n\u001b[1;32m--> 618\u001b[0m     d\u001b[39m.\u001b[39mupdate(\u001b[39mself\u001b[39;49m\u001b[39m.\u001b[39;49m_get_axis_resolvers(axis_name))\n\u001b[0;32m    620\u001b[0m \u001b[39mreturn\u001b[39;00m {clean_column_name(k): v \u001b[39mfor\u001b[39;00m k, v \u001b[39min\u001b[39;00m d\u001b[39m.\u001b[39mitems() \u001b[39mif\u001b[39;00m \u001b[39mnot\u001b[39;00m \u001b[39misinstance\u001b[39m(k, \u001b[39mint\u001b[39m)}\n",
      "File \u001b[1;32mc:\\Users\\Edrick\\PycharmProjects\\pythonProject\\twse_sq_scraper\\venv\\lib\\site-packages\\pandas\\core\\generic.py:599\u001b[0m, in \u001b[0;36mNDFrame._get_axis_resolvers\u001b[1;34m(self, axis)\u001b[0m\n\u001b[0;32m    596\u001b[0m     level \u001b[39m=\u001b[39m i\n\u001b[0;32m    598\u001b[0m level_values \u001b[39m=\u001b[39m axis_index\u001b[39m.\u001b[39mget_level_values(level)\n\u001b[1;32m--> 599\u001b[0m s \u001b[39m=\u001b[39m level_values\u001b[39m.\u001b[39;49mto_series()\n\u001b[0;32m    600\u001b[0m s\u001b[39m.\u001b[39mindex \u001b[39m=\u001b[39m axis_index\n\u001b[0;32m    601\u001b[0m d[key] \u001b[39m=\u001b[39m s\n",
      "File \u001b[1;32mc:\\Users\\Edrick\\PycharmProjects\\pythonProject\\twse_sq_scraper\\venv\\lib\\site-packages\\pandas\\core\\indexes\\base.py:1658\u001b[0m, in \u001b[0;36mIndex.to_series\u001b[1;34m(self, index, name)\u001b[0m\n\u001b[0;32m   1655\u001b[0m \u001b[39mif\u001b[39;00m name \u001b[39mis\u001b[39;00m \u001b[39mNone\u001b[39;00m:\n\u001b[0;32m   1656\u001b[0m     name \u001b[39m=\u001b[39m \u001b[39mself\u001b[39m\u001b[39m.\u001b[39mname\n\u001b[1;32m-> 1658\u001b[0m \u001b[39mreturn\u001b[39;00m Series(\u001b[39mself\u001b[39;49m\u001b[39m.\u001b[39;49m_values\u001b[39m.\u001b[39;49mcopy(), index\u001b[39m=\u001b[39mindex, name\u001b[39m=\u001b[39mname)\n",
      "\u001b[1;31mKeyboardInterrupt\u001b[0m: "
     ]
    }
   ],
   "source": [
    "# Calculating % of quota used in every hour\n",
    "date_vol_pct = {}\n",
    "for date in df_pct_hour['request_date'].unique():\n",
    "    df_hour = df_pct_hour.query(\"request_date == @date\")\n",
    "    date_vol_pct[date] = {}\n",
    "    for i in range(len(hour_list)-1):\n",
    "        start_time = hour_list[i]\n",
    "        end_time = hour_list[i+1]\n",
    "        hour_stk_pct_dict = {}\n",
    "        for stk in df_pct_hour['stkno'].unique():\n",
    "            df_temp = df_hour.query(\"txtime >= @start_time & txtime < @end_time & stkno == @stk\")\n",
    "            if df_temp.empty:\n",
    "                df_temp = df_hour.query(\"txtime < @end_time & stkno == @stk\")\n",
    "            if not df_temp.empty:\n",
    "                hour_stk_pct_dict[stk] = df_temp.iloc[-1]['pct_of_open']\n",
    "        date_vol_pct[date][end_time] = np.array(list(hour_stk_pct_dict.values())).mean()\n",
    "        # print(date, start_time, end_time, date_vol_pct[date][end_time])"
   ]
  },
  {
   "cell_type": "code",
   "execution_count": null,
   "metadata": {},
   "outputs": [
    {
     "data": {
      "text/plain": [
       "{numpy.datetime64('2022-11-29T00:00:00.000000000'): {'09:00:00.00': 0.9978793692009597,\n",
       "  '10:00:00.00': 0.9431462557391321,\n",
       "  '11:00:00.00': 0.9300974599391703,\n",
       "  '12:00:00.00': 0.9208085362931806,\n",
       "  '13:00:00.00': 0.9131970425343868,\n",
       "  '14:00:00.00': 0.8820011805577558,\n",
       "  '15:00:00.00': 0.8815836074718371,\n",
       "  '16:00:00.00': 0.8813117090928528},\n",
       " numpy.datetime64('2022-11-30T00:00:00.000000000'): {'09:00:00.00': 1.0,\n",
       "  '10:00:00.00': 0.9890967793700329,\n",
       "  '11:00:00.00': 0.9697475549376652,\n",
       "  '12:00:00.00': 0.9601309637693922,\n",
       "  '13:00:00.00': 0.9554200582912392,\n",
       "  '14:00:00.00': 0.9084764523132032,\n",
       "  '15:00:00.00': 0.9083096092463682,\n",
       "  '16:00:00.00': 0.9083078940389984},\n",
       " numpy.datetime64('2022-12-01T00:00:00.000000000'): {'09:00:00.00': 0.9956637772180283,\n",
       "  '10:00:00.00': 0.9289801846482869,\n",
       "  '11:00:00.00': 0.9064700453256773,\n",
       "  '12:00:00.00': 0.850177028791429,\n",
       "  '13:00:00.00': 0.8425227560664768,\n",
       "  '14:00:00.00': 0.808368337416267,\n",
       "  '15:00:00.00': 0.808108428339974,\n",
       "  '16:00:00.00': 0.8079856876830376},\n",
       " numpy.datetime64('2022-12-02T00:00:00.000000000'): {'09:00:00.00': 0.9971935713094054,\n",
       "  '10:00:00.00': 0.9111478941656928,\n",
       "  '11:00:00.00': 0.8913027783617271,\n",
       "  '12:00:00.00': 0.8579005080470068,\n",
       "  '13:00:00.00': 0.8575539944478645,\n",
       "  '14:00:00.00': 0.8211670221561385,\n",
       "  '15:00:00.00': 0.8211670221561385,\n",
       "  '16:00:00.00': 0.8211670221561385}}"
      ]
     },
     "execution_count": 111,
     "metadata": {},
     "output_type": "execute_result"
    }
   ],
   "source": [
    "pd.DataFrame.from_dict(date_vol_pct)"
   ]
  },
  {
   "cell_type": "code",
   "execution_count": 26,
   "metadata": {},
   "outputs": [],
   "source": [
    "most_traded_stks = ['00632R', '00637L', '2303', '1605', '2618', '2610', '3481', '00878', '2609', '2409', '0056', '2330', '00673R', '2834', '2891']\n"
   ]
  },
  {
   "cell_type": "code",
   "execution_count": 22,
   "metadata": {},
   "outputs": [],
   "source": [
    "date_vol_pct_sel_sts = {}\n",
    "for date in df_pct_hour['request_date'].unique():\n",
    "    df_hour = df_pct_hour.query(\"request_date == @date\")\n",
    "    date_vol_pct_sel_sts[date] = {}\n",
    "    for i in range(len(hour_list)-1):\n",
    "        start_time = hour_list[i]\n",
    "        end_time = hour_list[i+1]\n",
    "        hour_stk_pct_dict = {}\n",
    "        for stk in most_traded_stks:\n",
    "            df_temp = df_hour.query(\"txtime >= @start_time & txtime < @end_time & stkno == @stk\")\n",
    "            if df_temp.empty:\n",
    "                df_temp = df_hour.query(\"txtime < @end_time & stkno == @stk\")\n",
    "            if not df_temp.empty:\n",
    "                hour_stk_pct_dict[stk] = df_temp.iloc[-1]['pct_of_open']\n",
    "        date_vol_pct_sel_sts[date][end_time] = np.array(list(hour_stk_pct_dict.values())).mean()\n",
    "        # print(date, start_time, end_time, date_vol_pct_sel_sts[date][end_time])\n",
    "# date_vol_pct_sel_sts"
   ]
  },
  {
   "cell_type": "code",
   "execution_count": 23,
   "metadata": {},
   "outputs": [
    {
     "data": {
      "text/html": [
       "<div>\n",
       "<style scoped>\n",
       "    .dataframe tbody tr th:only-of-type {\n",
       "        vertical-align: middle;\n",
       "    }\n",
       "\n",
       "    .dataframe tbody tr th {\n",
       "        vertical-align: top;\n",
       "    }\n",
       "\n",
       "    .dataframe thead th {\n",
       "        text-align: right;\n",
       "    }\n",
       "</style>\n",
       "<table border=\"1\" class=\"dataframe\">\n",
       "  <thead>\n",
       "    <tr style=\"text-align: right;\">\n",
       "      <th></th>\n",
       "      <th>2022-11-29</th>\n",
       "      <th>2022-11-30</th>\n",
       "      <th>2022-12-01</th>\n",
       "      <th>2022-12-02</th>\n",
       "    </tr>\n",
       "  </thead>\n",
       "  <tbody>\n",
       "    <tr>\n",
       "      <th>09:00:00.00</th>\n",
       "      <td>1.000000</td>\n",
       "      <td>1.000000</td>\n",
       "      <td>0.999965</td>\n",
       "      <td>0.996907</td>\n",
       "    </tr>\n",
       "    <tr>\n",
       "      <th>10:00:00.00</th>\n",
       "      <td>0.812171</td>\n",
       "      <td>0.830438</td>\n",
       "      <td>0.812958</td>\n",
       "      <td>0.790128</td>\n",
       "    </tr>\n",
       "    <tr>\n",
       "      <th>11:00:00.00</th>\n",
       "      <td>0.761404</td>\n",
       "      <td>0.821699</td>\n",
       "      <td>0.733854</td>\n",
       "      <td>0.682725</td>\n",
       "    </tr>\n",
       "    <tr>\n",
       "      <th>12:00:00.00</th>\n",
       "      <td>0.703224</td>\n",
       "      <td>0.741240</td>\n",
       "      <td>0.680229</td>\n",
       "      <td>0.648711</td>\n",
       "    </tr>\n",
       "    <tr>\n",
       "      <th>13:00:00.00</th>\n",
       "      <td>0.672048</td>\n",
       "      <td>0.598561</td>\n",
       "      <td>0.669666</td>\n",
       "      <td>0.650744</td>\n",
       "    </tr>\n",
       "    <tr>\n",
       "      <th>14:00:00.00</th>\n",
       "      <td>0.626543</td>\n",
       "      <td>0.664116</td>\n",
       "      <td>0.646477</td>\n",
       "      <td>0.659348</td>\n",
       "    </tr>\n",
       "    <tr>\n",
       "      <th>15:00:00.00</th>\n",
       "      <td>0.626543</td>\n",
       "      <td>0.664116</td>\n",
       "      <td>0.646477</td>\n",
       "      <td>0.659348</td>\n",
       "    </tr>\n",
       "    <tr>\n",
       "      <th>16:00:00.00</th>\n",
       "      <td>0.626543</td>\n",
       "      <td>0.664116</td>\n",
       "      <td>0.646477</td>\n",
       "      <td>0.659348</td>\n",
       "    </tr>\n",
       "  </tbody>\n",
       "</table>\n",
       "</div>"
      ],
      "text/plain": [
       "             2022-11-29  2022-11-30  2022-12-01  2022-12-02\n",
       "09:00:00.00    1.000000    1.000000    0.999965    0.996907\n",
       "10:00:00.00    0.812171    0.830438    0.812958    0.790128\n",
       "11:00:00.00    0.761404    0.821699    0.733854    0.682725\n",
       "12:00:00.00    0.703224    0.741240    0.680229    0.648711\n",
       "13:00:00.00    0.672048    0.598561    0.669666    0.650744\n",
       "14:00:00.00    0.626543    0.664116    0.646477    0.659348\n",
       "15:00:00.00    0.626543    0.664116    0.646477    0.659348\n",
       "16:00:00.00    0.626543    0.664116    0.646477    0.659348"
      ]
     },
     "execution_count": 23,
     "metadata": {},
     "output_type": "execute_result"
    }
   ],
   "source": [
    "pd.DataFrame.from_dict(date_vol_pct_sel_sts)"
   ]
  },
  {
   "cell_type": "code",
   "execution_count": 27,
   "metadata": {},
   "outputs": [],
   "source": [
    "# filling up the hourly checkpoint\n",
    "# 1. try to remake the date and time as axis\n",
    "df_pct_hour_dt = df_pct_hour.copy()\n",
    "df_pct_hour_dt['new_txtime'] = df_pct_hour_dt['txtime'].replace('', '08:00:00.00')\n",
    "df_pct_hour_dt['new_txtime'] = df_pct_hour_dt['request_date'].astype(str) + ' ' + df_pct_hour_dt['new_txtime']\n",
    "df_pct_hour_dt['new_txtime'] = pd.to_datetime(df_pct_hour_dt['new_txtime'])\n",
    "# df_pct_hour_dt['new_txtime'] = df_pct_hour_dt['new_txtime'].dt.time"
   ]
  },
  {
   "cell_type": "code",
   "execution_count": 73,
   "metadata": {},
   "outputs": [
    {
     "data": {
      "text/plain": [
       "array([19325.33333333, 19325.33333333, 19325.37499595, ...,\n",
       "       19328.5624978 , 19328.33333333, 19328.33333333])"
      ]
     },
     "execution_count": 73,
     "metadata": {},
     "output_type": "execute_result"
    }
   ],
   "source": []
  },
  {
   "cell_type": "code",
   "execution_count": 109,
   "metadata": {},
   "outputs": [
    {
     "data": {
      "image/png": "[encoded data removed]",
      "text/plain": [
       "<Figure size 640x480 with 2 Axes>"
      ]
     },
     "metadata": {},
     "output_type": "display_data"
    }
   ],
   "source": [
    "# Plotting the stock quota\n",
    "plt.subplot(1,2,1)\n",
    "start_date = '2022-12-02'\n",
    "end_date = start_date\n",
    "stkno_list = ['2330']\n",
    "df_temp = get_data(stkno_list=stkno_list, start_date=start_date, end_date=end_date, data=df_pct_hour_dt)\n",
    "plt.plot(df_temp['new_txtime'], df_temp['pct_of_open'])\n",
    "plt.ylabel('short quota')\n",
    "plt.subplot(1,2,2)\n",
    "start_date = '2022-12-01'\n",
    "end_date = start_date\n",
    "df_temp = get_data(stkno_list=stkno_list, start_date=start_date, end_date=end_date, data=df_pct_hour_dt)\n",
    "plt.plot(df_temp['new_txtime'], df_temp['pct_of_open'])\n",
    "plt.suptitle(f\"{stkno_list[0]} Quota consumption\")\n",
    "plt.gcf().autofmt_xdate()"
   ]
  },
  {
   "cell_type": "code",
   "execution_count": 118,
   "metadata": {},
   "outputs": [
    {
     "data": {
      "image/png": "[encoded data removed]",
      "text/plain": [
       "<Figure size 640x480 with 2 Axes>"
      ]
     },
     "metadata": {},
     "output_type": "display_data"
    }
   ],
   "source": [
    "# Plotting the stock quota\n",
    "fig = plt.figure()\n",
    "ax1 = fig.add_subplot(1,2,1)\n",
    "start_date = '2022-12-01'\n",
    "end_date = start_date\n",
    "stkno_list = ['00673R']\n",
    "df_temp = get_data(stkno_list=stkno_list, start_date=start_date, end_date=end_date, data=df_pct_hour_dt)\n",
    "plt.plot(df_temp['new_txtime'], df_temp['pct_of_open'])\n",
    "plt.ylabel('short quota')\n",
    "ax2 = fig.add_subplot(1,2,2, sharey=ax1)\n",
    "start_date = '2022-12-02'\n",
    "end_date = start_date\n",
    "df_temp = get_data(stkno_list=stkno_list, start_date=start_date, end_date=end_date, data=df_pct_hour_dt)\n",
    "plt.plot(df_temp['new_txtime'], df_temp['pct_of_open'])\n",
    "plt.suptitle(f\"{stkno_list[0]} Quota consumption\")\n",
    "plt.gcf().autofmt_xdate()"
   ]
  },
  {
   "cell_type": "code",
   "execution_count": 39,
   "metadata": {},
   "outputs": [
    {
     "data": {
      "text/html": [
       "<div>\n",
       "<style scoped>\n",
       "    .dataframe tbody tr th:only-of-type {\n",
       "        vertical-align: middle;\n",
       "    }\n",
       "\n",
       "    .dataframe tbody tr th {\n",
       "        vertical-align: top;\n",
       "    }\n",
       "\n",
       "    .dataframe thead th {\n",
       "        text-align: right;\n",
       "    }\n",
       "</style>\n",
       "<table border=\"1\" class=\"dataframe\">\n",
       "  <thead>\n",
       "    <tr style=\"text-align: right;\">\n",
       "      <th></th>\n",
       "      <th>request_date</th>\n",
       "      <th>stkno</th>\n",
       "      <th>request_time</th>\n",
       "      <th>txtime</th>\n",
       "      <th>slblimit</th>\n",
       "      <th>ts</th>\n",
       "      <th>pct_of_open</th>\n",
       "      <th>new_txtime</th>\n",
       "      <th>intime</th>\n",
       "    </tr>\n",
       "  </thead>\n",
       "  <tbody>\n",
       "    <tr>\n",
       "      <th>0</th>\n",
       "      <td>2022-11-29</td>\n",
       "      <td>0051</td>\n",
       "      <td>08:53:12.717576</td>\n",
       "      <td></td>\n",
       "      <td>4215</td>\n",
       "      <td>0</td>\n",
       "      <td>1.000000</td>\n",
       "      <td>2022-11-29 08:00:00.000</td>\n",
       "      <td>80000</td>\n",
       "    </tr>\n",
       "    <tr>\n",
       "      <th>1</th>\n",
       "      <td>2022-11-29</td>\n",
       "      <td>0052</td>\n",
       "      <td>08:53:12.717576</td>\n",
       "      <td></td>\n",
       "      <td>37004</td>\n",
       "      <td>0</td>\n",
       "      <td>1.000000</td>\n",
       "      <td>2022-11-29 08:00:00.000</td>\n",
       "      <td>80000</td>\n",
       "    </tr>\n",
       "    <tr>\n",
       "      <th>2</th>\n",
       "      <td>2022-11-29</td>\n",
       "      <td>0052</td>\n",
       "      <td>09:00:25.390449</td>\n",
       "      <td>08:59:59.65</td>\n",
       "      <td>37004</td>\n",
       "      <td>8595965</td>\n",
       "      <td>1.000000</td>\n",
       "      <td>2022-11-29 08:59:59.650</td>\n",
       "      <td>85959</td>\n",
       "    </tr>\n",
       "    <tr>\n",
       "      <th>3</th>\n",
       "      <td>2022-11-29</td>\n",
       "      <td>0052</td>\n",
       "      <td>09:01:28.784991</td>\n",
       "      <td>09:01:05.74</td>\n",
       "      <td>29004</td>\n",
       "      <td>9010574</td>\n",
       "      <td>0.783807</td>\n",
       "      <td>2022-11-29 09:01:05.740</td>\n",
       "      <td>90105</td>\n",
       "    </tr>\n",
       "    <tr>\n",
       "      <th>4</th>\n",
       "      <td>2022-11-29</td>\n",
       "      <td>0052</td>\n",
       "      <td>09:02:26.160528</td>\n",
       "      <td>09:01:51.67</td>\n",
       "      <td>25004</td>\n",
       "      <td>9015167</td>\n",
       "      <td>0.675711</td>\n",
       "      <td>2022-11-29 09:01:51.670</td>\n",
       "      <td>90151</td>\n",
       "    </tr>\n",
       "    <tr>\n",
       "      <th>...</th>\n",
       "      <td>...</td>\n",
       "      <td>...</td>\n",
       "      <td>...</td>\n",
       "      <td>...</td>\n",
       "      <td>...</td>\n",
       "      <td>...</td>\n",
       "      <td>...</td>\n",
       "      <td>...</td>\n",
       "      <td>...</td>\n",
       "    </tr>\n",
       "    <tr>\n",
       "      <th>58555</th>\n",
       "      <td>2022-12-02</td>\n",
       "      <td>9958</td>\n",
       "      <td>13:06:37.482952</td>\n",
       "      <td>13:05:26.72</td>\n",
       "      <td>297855</td>\n",
       "      <td>13052672</td>\n",
       "      <td>0.805329</td>\n",
       "      <td>2022-12-02 13:05:26.720</td>\n",
       "      <td>130526</td>\n",
       "    </tr>\n",
       "    <tr>\n",
       "      <th>58556</th>\n",
       "      <td>2022-12-02</td>\n",
       "      <td>9958</td>\n",
       "      <td>13:22:35.802867</td>\n",
       "      <td>13:22:11.34</td>\n",
       "      <td>284855</td>\n",
       "      <td>13221134</td>\n",
       "      <td>0.770180</td>\n",
       "      <td>2022-12-02 13:22:11.340</td>\n",
       "      <td>132211</td>\n",
       "    </tr>\n",
       "    <tr>\n",
       "      <th>58557</th>\n",
       "      <td>2022-12-02</td>\n",
       "      <td>9958</td>\n",
       "      <td>13:30:33.101219</td>\n",
       "      <td>13:29:59.81</td>\n",
       "      <td>283855</td>\n",
       "      <td>13295981</td>\n",
       "      <td>0.767476</td>\n",
       "      <td>2022-12-02 13:29:59.810</td>\n",
       "      <td>132959</td>\n",
       "    </tr>\n",
       "    <tr>\n",
       "      <th>58558</th>\n",
       "      <td>2022-12-02</td>\n",
       "      <td>9960</td>\n",
       "      <td>08:51:11.240436</td>\n",
       "      <td></td>\n",
       "      <td>7636</td>\n",
       "      <td>0</td>\n",
       "      <td>1.000000</td>\n",
       "      <td>2022-12-02 08:00:00.000</td>\n",
       "      <td>80000</td>\n",
       "    </tr>\n",
       "    <tr>\n",
       "      <th>58559</th>\n",
       "      <td>2022-12-02</td>\n",
       "      <td>9962</td>\n",
       "      <td>08:51:11.240436</td>\n",
       "      <td></td>\n",
       "      <td>32807</td>\n",
       "      <td>0</td>\n",
       "      <td>1.000000</td>\n",
       "      <td>2022-12-02 08:00:00.000</td>\n",
       "      <td>80000</td>\n",
       "    </tr>\n",
       "  </tbody>\n",
       "</table>\n",
       "<p>58560 rows × 9 columns</p>\n",
       "</div>"
      ],
      "text/plain": [
       "      request_date stkno     request_time       txtime  slblimit        ts  \\\n",
       "0       2022-11-29  0051  08:53:12.717576                   4215         0   \n",
       "1       2022-11-29  0052  08:53:12.717576                  37004         0   \n",
       "2       2022-11-29  0052  09:00:25.390449  08:59:59.65     37004   8595965   \n",
       "3       2022-11-29  0052  09:01:28.784991  09:01:05.74     29004   9010574   \n",
       "4       2022-11-29  0052  09:02:26.160528  09:01:51.67     25004   9015167   \n",
       "...            ...   ...              ...          ...       ...       ...   \n",
       "58555   2022-12-02  9958  13:06:37.482952  13:05:26.72    297855  13052672   \n",
       "58556   2022-12-02  9958  13:22:35.802867  13:22:11.34    284855  13221134   \n",
       "58557   2022-12-02  9958  13:30:33.101219  13:29:59.81    283855  13295981   \n",
       "58558   2022-12-02  9960  08:51:11.240436                   7636         0   \n",
       "58559   2022-12-02  9962  08:51:11.240436                  32807         0   \n",
       "\n",
       "       pct_of_open              new_txtime  intime  \n",
       "0         1.000000 2022-11-29 08:00:00.000   80000  \n",
       "1         1.000000 2022-11-29 08:00:00.000   80000  \n",
       "2         1.000000 2022-11-29 08:59:59.650   85959  \n",
       "3         0.783807 2022-11-29 09:01:05.740   90105  \n",
       "4         0.675711 2022-11-29 09:01:51.670   90151  \n",
       "...            ...                     ...     ...  \n",
       "58555     0.805329 2022-12-02 13:05:26.720  130526  \n",
       "58556     0.770180 2022-12-02 13:22:11.340  132211  \n",
       "58557     0.767476 2022-12-02 13:29:59.810  132959  \n",
       "58558     1.000000 2022-12-02 08:00:00.000   80000  \n",
       "58559     1.000000 2022-12-02 08:00:00.000   80000  \n",
       "\n",
       "[58560 rows x 9 columns]"
      ]
     },
     "execution_count": 39,
     "metadata": {},
     "output_type": "execute_result"
    }
   ],
   "source": [
    "df_pct_hour_dt['intime'] = df_pct_hour_dt['new_txtime'].apply(lambda x: str(x.time())[:8].replace(':','')).astype(int)\n",
    "df_pct_hour_dt"
   ]
  },
  {
   "cell_type": "code",
   "execution_count": 120,
   "metadata": {},
   "outputs": [],
   "source": [
    "def plot_quota_consumption(stkno_list, date_list, data):\n",
    "    fig = plt.figure()\n",
    "    rows = len(stkno_list) // 2 + 1\n",
    "    cols = 2 if len(stkno_list) > 1 else 1\n",
    "    \n",
    "    for idx, stkno in enumerate(stkno_list):\n",
    "        ax1 = fig.add_subplot(rows, cols, idx + 1)\n",
    "        for date in date_list:\n",
    "            df_temp = get_data(stkno_list=[stkno], start_date=date, end_date=date, data=data)\n",
    "            plt.plot(df_temp['intime'], df_temp['pct_of_open'])\n",
    "        plt.title(f\"{stkno}\")\n",
    "    plt.subplots_adjust(hspace=0.15*len(stkno_list))\n",
    "    "
   ]
  },
  {
   "cell_type": "code",
   "execution_count": 57,
   "metadata": {},
   "outputs": [],
   "source": [
    "# Overall market short ratio at time point\n",
    "date_sr = {}\n",
    "for date in df_pct_hour_dt['request_date'].unique():\n",
    "    df_hour = df_pct_hour_dt.query(\"request_date == @date\")\n",
    "    date_sr[date] = {}\n",
    "    for i in range(len(hour_list)-1):\n",
    "        start_time = hour_list[i]\n",
    "        end_time = hour_list[i+1]\n",
    "        df_temp = df_hour.query(\"txtime >= @start_time & txtime < @end_time\")\n",
    "        df_temp = df_temp.sort_values(['stkno', 'intime']).drop_duplicates(subset='stkno', keep='last')\n",
    "        overall_sr = df_temp['pct_of_open'].mean()\n",
    "        # print(date, start_time, '-', end_time, df_temp.shape)\n",
    "        date_sr[date][end_time] = overall_sr\n",
    "        # print(start_time, '-', end_time, total_turnover)\n",
    "        # print('-'*50)"
   ]
  },
  {
   "cell_type": "code",
   "execution_count": 76,
   "metadata": {},
   "outputs": [
    {
     "data": {
      "text/plain": [
       "Text(0.5, 1.0, 'Average Overall Short Quota Usage')"
      ]
     },
     "execution_count": 76,
     "metadata": {},
     "output_type": "execute_result"
    },
    {
     "data": {
      "image/png": "[encoded data removed]",
      "text/plain": [
       "<Figure size 1200x500 with 1 Axes>"
      ]
     },
     "metadata": {},
     "output_type": "display_data"
    }
   ],
   "source": [
    "df_valid_sr_mean = pd.DataFrame.from_dict(date_sr)['2022-12-02']\n",
    "plt.figure(figsize=(12, 5))\n",
    "plt.plot(range(9, 9+len(df_valid_sr_mean)), df_valid_sr_mean)\n",
    "plt.title('Average Overall Short Quota Usage')"
   ]
  },
  {
   "cell_type": "code",
   "execution_count": 73,
   "metadata": {},
   "outputs": [
    {
     "data": {
      "text/plain": [
       "Text(0.5, 1.0, 'Average Overall Short Quota Usage')"
      ]
     },
     "execution_count": 73,
     "metadata": {},
     "output_type": "execute_result"
    },
    {
     "data": {
      "image/png": "[encoded data removed]",
      "text/plain": [
       "<Figure size 1200x500 with 1 Axes>"
      ]
     },
     "metadata": {},
     "output_type": "display_data"
    }
   ],
   "source": [
    "df_valid_sr_mean = pd.DataFrame.from_dict(date_sr).mean(axis=1)\n",
    "plt.figure(figsize=(12, 5))\n",
    "plt.plot(range(9, 9+len(df_valid_sr_mean)), df_valid_sr_mean)\n",
    "plt.title('Average Overall Short Quota Usage')"
   ]
  },
  {
   "cell_type": "code",
   "execution_count": 134,
   "metadata": {},
   "outputs": [
    {
     "data": {
      "text/plain": [
       "['00632R', '00637L', '1605', '3481', '00878', '0056', '2330', '00673R', '2891']"
      ]
     },
     "execution_count": 134,
     "metadata": {},
     "output_type": "execute_result"
    }
   ],
   "source": [
    "ava_stk_list = []\n",
    "valid_stk_list = df_pct_hour_dt['stkno'].unique()\n",
    "for stk in most_traded_stks:\n",
    "    if stk in valid_stk_list:\n",
    "        ava_stk_list.append(stk)\n",
    "ava_stk_list"
   ]
  },
  {
   "cell_type": "code",
   "execution_count": 135,
   "metadata": {},
   "outputs": [
    {
     "data": {
      "image/png": "[encoded data removed]",
      "text/plain": [
       "<Figure size 640x480 with 9 Axes>"
      ]
     },
     "metadata": {},
     "output_type": "display_data"
    }
   ],
   "source": [
    "plot_quota_consumption(ava_stk_list, ['2022-12-01', '2022-12-02'], df_pct_hour_dt)"
   ]
  },
  {
   "cell_type": "code",
   "execution_count": 133,
   "metadata": {},
   "outputs": [
    {
     "data": {
      "text/plain": [
       "Text(0.5, 1.0, '1605.TW Quota Usage')"
      ]
     },
     "execution_count": 133,
     "metadata": {},
     "output_type": "execute_result"
    },
    {
     "data": {
      "image/png": "[encoded data removed]",
      "text/plain": [
       "<Figure size 640x480 with 1 Axes>"
      ]
     },
     "metadata": {},
     "output_type": "display_data"
    }
   ],
   "source": [
    "plot_quota_consumption(['1605'], ['2022-12-01', '2022-12-02'], df_pct_hour_dt)\n",
    "plt.legend(['2022-12-01', '2022-12-02'])\n",
    "plt.title(f\"{1605}.TW Quota Usage\")"
   ]
  },
  {
   "cell_type": "code",
   "execution_count": 145,
   "metadata": {},
   "outputs": [
    {
     "data": {
      "text/plain": [
       "Text(0.5, 0, 'Time (h:mm:ss)')"
      ]
     },
     "execution_count": 145,
     "metadata": {},
     "output_type": "execute_result"
    },
    {
     "data": {
      "image/png": "[encoded data removed]",
      "text/plain": [
       "<Figure size 640x480 with 1 Axes>"
      ]
     },
     "metadata": {},
     "output_type": "display_data"
    }
   ],
   "source": [
    "my_list = ['00632R']\n",
    "plot_quota_consumption(my_list, ['2022-12-01', '2022-12-02'], df_pct_hour_dt)\n",
    "plt.legend(['2022-12-01', '2022-12-02'])\n",
    "plt.title(f\"{my_list[0]}.TW Quota Usage\")\n",
    "plt.xlabel('Time (h:mm:ss)')"
   ]
  },
  {
   "cell_type": "code",
   "execution_count": 144,
   "metadata": {},
   "outputs": [
    {
     "data": {
      "text/plain": [
       "Text(0.5, 0, 'Time (h:mm:ss)')"
      ]
     },
     "execution_count": 144,
     "metadata": {},
     "output_type": "execute_result"
    },
    {
     "data": {
      "image/png": "[encoded data removed]",
      "text/plain": [
       "<Figure size 640x480 with 1 Axes>"
      ]
     },
     "metadata": {},
     "output_type": "display_data"
    }
   ],
   "source": [
    "my_list = ['00673R']\n",
    "plot_quota_consumption(my_list, ['2022-12-01', '2022-12-02'], df_pct_hour_dt)\n",
    "plt.legend(['2022-12-01', '2022-12-02'])\n",
    "plt.title(f\"{my_list[0]}.TW Quota Usage\")\n",
    "plt.xlabel('Time (h:mm:ss)')"
   ]
  },
  {
   "cell_type": "code",
   "execution_count": 161,
   "metadata": {},
   "outputs": [
    {
     "data": {
      "text/plain": [
       "Text(0.5, 0, 'Time (h:mm:ss)')"
      ]
     },
     "execution_count": 161,
     "metadata": {},
     "output_type": "execute_result"
    },
    {
     "data": {
      "image/png": "[encoded data removed]",
      "text/plain": [
       "<Figure size 640x480 with 1 Axes>"
      ]
     },
     "metadata": {},
     "output_type": "display_data"
    }
   ],
   "source": [
    "my_list = ['1109']\n",
    "date_list = ['2022-12-01', '2022-12-02']\n",
    "plot_quota_consumption(my_list, date_list, df_pct_hour_dt)\n",
    "plt.legend(date_list)\n",
    "plt.title(f\"{my_list[0]}.TW Quota Usage\")\n",
    "plt.xlabel('Time (h:mm:ss)')"
   ]
  },
  {
   "cell_type": "code",
   "execution_count": 153,
   "metadata": {},
   "outputs": [
    {
     "data": {
      "text/html": [
       "<div>\n",
       "<style scoped>\n",
       "    .dataframe tbody tr th:only-of-type {\n",
       "        vertical-align: middle;\n",
       "    }\n",
       "\n",
       "    .dataframe tbody tr th {\n",
       "        vertical-align: top;\n",
       "    }\n",
       "\n",
       "    .dataframe thead th {\n",
       "        text-align: right;\n",
       "    }\n",
       "</style>\n",
       "<table border=\"1\" class=\"dataframe\">\n",
       "  <thead>\n",
       "    <tr style=\"text-align: right;\">\n",
       "      <th></th>\n",
       "      <th>request_date</th>\n",
       "      <th>stkno</th>\n",
       "      <th>request_time</th>\n",
       "      <th>txtime</th>\n",
       "      <th>slblimit</th>\n",
       "      <th>ts</th>\n",
       "      <th>pct_of_open</th>\n",
       "      <th>new_txtime</th>\n",
       "      <th>intime</th>\n",
       "    </tr>\n",
       "  </thead>\n",
       "  <tbody>\n",
       "    <tr>\n",
       "      <th>2811</th>\n",
       "      <td>2022-11-29</td>\n",
       "      <td>00902</td>\n",
       "      <td>10:47:35.199954</td>\n",
       "      <td>10:46:22.76</td>\n",
       "      <td>552650</td>\n",
       "      <td>10462276</td>\n",
       "      <td>0.989260</td>\n",
       "      <td>2022-11-29 10:46:22.760</td>\n",
       "      <td>104622</td>\n",
       "    </tr>\n",
       "    <tr>\n",
       "      <th>2812</th>\n",
       "      <td>2022-11-29</td>\n",
       "      <td>00902</td>\n",
       "      <td>10:48:34.814411</td>\n",
       "      <td>10:48:09.08</td>\n",
       "      <td>542650</td>\n",
       "      <td>10480908</td>\n",
       "      <td>0.971360</td>\n",
       "      <td>2022-11-29 10:48:09.080</td>\n",
       "      <td>104809</td>\n",
       "    </tr>\n",
       "    <tr>\n",
       "      <th>2814</th>\n",
       "      <td>2022-11-29</td>\n",
       "      <td>00902</td>\n",
       "      <td>13:28:40.712057</td>\n",
       "      <td>13:28:06.50</td>\n",
       "      <td>542650</td>\n",
       "      <td>13280650</td>\n",
       "      <td>0.971360</td>\n",
       "      <td>2022-11-29 13:28:06.500</td>\n",
       "      <td>132806</td>\n",
       "    </tr>\n",
       "    <tr>\n",
       "      <th>2839</th>\n",
       "      <td>2022-11-29</td>\n",
       "      <td>1108</td>\n",
       "      <td>13:23:35.942490</td>\n",
       "      <td>13:22:33.99</td>\n",
       "      <td>20392</td>\n",
       "      <td>13223399</td>\n",
       "      <td>0.953254</td>\n",
       "      <td>2022-11-29 13:22:33.990</td>\n",
       "      <td>132233</td>\n",
       "    </tr>\n",
       "    <tr>\n",
       "      <th>2841</th>\n",
       "      <td>2022-11-29</td>\n",
       "      <td>1109</td>\n",
       "      <td>13:23:35.942490</td>\n",
       "      <td>13:22:45.89</td>\n",
       "      <td>20380</td>\n",
       "      <td>13224589</td>\n",
       "      <td>0.953227</td>\n",
       "      <td>2022-11-29 13:22:45.890</td>\n",
       "      <td>132245</td>\n",
       "    </tr>\n",
       "    <tr>\n",
       "      <th>...</th>\n",
       "      <td>...</td>\n",
       "      <td>...</td>\n",
       "      <td>...</td>\n",
       "      <td>...</td>\n",
       "      <td>...</td>\n",
       "      <td>...</td>\n",
       "      <td>...</td>\n",
       "      <td>...</td>\n",
       "      <td>...</td>\n",
       "    </tr>\n",
       "    <tr>\n",
       "      <th>58171</th>\n",
       "      <td>2022-12-02</td>\n",
       "      <td>9919</td>\n",
       "      <td>13:03:42.023955</td>\n",
       "      <td>13:02:39.00</td>\n",
       "      <td>687977</td>\n",
       "      <td>13023900</td>\n",
       "      <td>0.973125</td>\n",
       "      <td>2022-12-02 13:02:39.000</td>\n",
       "      <td>130239</td>\n",
       "    </tr>\n",
       "    <tr>\n",
       "      <th>58172</th>\n",
       "      <td>2022-12-02</td>\n",
       "      <td>9919</td>\n",
       "      <td>13:22:35.802867</td>\n",
       "      <td>13:22:12.84</td>\n",
       "      <td>686977</td>\n",
       "      <td>13221284</td>\n",
       "      <td>0.971711</td>\n",
       "      <td>2022-12-02 13:22:12.840</td>\n",
       "      <td>132212</td>\n",
       "    </tr>\n",
       "    <tr>\n",
       "      <th>58173</th>\n",
       "      <td>2022-12-02</td>\n",
       "      <td>9919</td>\n",
       "      <td>13:23:41.660845</td>\n",
       "      <td>13:23:08.78</td>\n",
       "      <td>684977</td>\n",
       "      <td>13230878</td>\n",
       "      <td>0.968882</td>\n",
       "      <td>2022-12-02 13:23:08.780</td>\n",
       "      <td>132308</td>\n",
       "    </tr>\n",
       "    <tr>\n",
       "      <th>58174</th>\n",
       "      <td>2022-12-02</td>\n",
       "      <td>9919</td>\n",
       "      <td>13:24:46.178524</td>\n",
       "      <td>13:24:08.59</td>\n",
       "      <td>686977</td>\n",
       "      <td>13240859</td>\n",
       "      <td>0.971711</td>\n",
       "      <td>2022-12-02 13:24:08.590</td>\n",
       "      <td>132408</td>\n",
       "    </tr>\n",
       "    <tr>\n",
       "      <th>58175</th>\n",
       "      <td>2022-12-02</td>\n",
       "      <td>9919</td>\n",
       "      <td>13:30:33.101219</td>\n",
       "      <td>13:29:59.74</td>\n",
       "      <td>685977</td>\n",
       "      <td>13295974</td>\n",
       "      <td>0.970296</td>\n",
       "      <td>2022-12-02 13:29:59.740</td>\n",
       "      <td>132959</td>\n",
       "    </tr>\n",
       "  </tbody>\n",
       "</table>\n",
       "<p>4077 rows × 9 columns</p>\n",
       "</div>"
      ],
      "text/plain": [
       "      request_date  stkno     request_time       txtime  slblimit        ts  \\\n",
       "2811    2022-11-29  00902  10:47:35.199954  10:46:22.76    552650  10462276   \n",
       "2812    2022-11-29  00902  10:48:34.814411  10:48:09.08    542650  10480908   \n",
       "2814    2022-11-29  00902  13:28:40.712057  13:28:06.50    542650  13280650   \n",
       "2839    2022-11-29   1108  13:23:35.942490  13:22:33.99     20392  13223399   \n",
       "2841    2022-11-29   1109  13:23:35.942490  13:22:45.89     20380  13224589   \n",
       "...            ...    ...              ...          ...       ...       ...   \n",
       "58171   2022-12-02   9919  13:03:42.023955  13:02:39.00    687977  13023900   \n",
       "58172   2022-12-02   9919  13:22:35.802867  13:22:12.84    686977  13221284   \n",
       "58173   2022-12-02   9919  13:23:41.660845  13:23:08.78    684977  13230878   \n",
       "58174   2022-12-02   9919  13:24:46.178524  13:24:08.59    686977  13240859   \n",
       "58175   2022-12-02   9919  13:30:33.101219  13:29:59.74    685977  13295974   \n",
       "\n",
       "       pct_of_open              new_txtime  intime  \n",
       "2811      0.989260 2022-11-29 10:46:22.760  104622  \n",
       "2812      0.971360 2022-11-29 10:48:09.080  104809  \n",
       "2814      0.971360 2022-11-29 13:28:06.500  132806  \n",
       "2839      0.953254 2022-11-29 13:22:33.990  132233  \n",
       "2841      0.953227 2022-11-29 13:22:45.890  132245  \n",
       "...            ...                     ...     ...  \n",
       "58171     0.973125 2022-12-02 13:02:39.000  130239  \n",
       "58172     0.971711 2022-12-02 13:22:12.840  132212  \n",
       "58173     0.968882 2022-12-02 13:23:08.780  132308  \n",
       "58174     0.971711 2022-12-02 13:24:08.590  132408  \n",
       "58175     0.970296 2022-12-02 13:29:59.740  132959  \n",
       "\n",
       "[4077 rows x 9 columns]"
      ]
     },
     "execution_count": 153,
     "metadata": {},
     "output_type": "execute_result"
    }
   ],
   "source": [
    "df_pct_hour_dt.query(\"0.95 < pct_of_open < 1 & intime > 100000\")"
   ]
  },
  {
   "cell_type": "code",
   "execution_count": 162,
   "metadata": {},
   "outputs": [
    {
     "data": {
      "text/html": [
       "<div>\n",
       "<style scoped>\n",
       "    .dataframe tbody tr th:only-of-type {\n",
       "        vertical-align: middle;\n",
       "    }\n",
       "\n",
       "    .dataframe tbody tr th {\n",
       "        vertical-align: top;\n",
       "    }\n",
       "\n",
       "    .dataframe thead th {\n",
       "        text-align: right;\n",
       "    }\n",
       "</style>\n",
       "<table border=\"1\" class=\"dataframe\">\n",
       "  <thead>\n",
       "    <tr style=\"text-align: right;\">\n",
       "      <th></th>\n",
       "      <th>request_date</th>\n",
       "      <th>stkno</th>\n",
       "      <th>request_time</th>\n",
       "      <th>txtime</th>\n",
       "      <th>slblimit</th>\n",
       "      <th>ts</th>\n",
       "      <th>pct_of_open</th>\n",
       "    </tr>\n",
       "  </thead>\n",
       "  <tbody>\n",
       "  </tbody>\n",
       "</table>\n",
       "</div>"
      ],
      "text/plain": [
       "Empty DataFrame\n",
       "Columns: [request_date, stkno, request_time, txtime, slblimit, ts, pct_of_open]\n",
       "Index: []"
      ]
     },
     "execution_count": 162,
     "metadata": {},
     "output_type": "execute_result"
    }
   ],
   "source": [
    "get_data(['0050'], '2022-11-29', '2022-11-29', df_pct_hour)"
   ]
  },
  {
   "cell_type": "code",
   "execution_count": 313,
   "metadata": {},
   "outputs": [
    {
     "data": {
      "text/plain": [
       "request_date  stkno\n",
       "2022-11-29    2609    -0.999841\n",
       "2022-11-30    2609    -0.999915\n",
       "2022-12-01    2609    -0.999851\n",
       "2022-12-02    2609    -0.966953\n",
       "dtype: float64"
      ]
     },
     "execution_count": 313,
     "metadata": {},
     "output_type": "execute_result"
    }
   ],
   "source": [
    "get_quota_used(['2609'])"
   ]
  }
 ],
 "metadata": {
  "kernelspec": {
   "display_name": "Python 3.10.5 ('venv': venv)",
   "language": "python",
   "name": "python3"
  },
  "language_info": {
   "codemirror_mode": {
    "name": "ipython",
    "version": 3
   },
   "file_extension": ".py",
   "mimetype": "text/x-python",
   "name": "python",
   "nbconvert_exporter": "python",
   "pygments_lexer": "ipython3",
   "version": "3.10.5"
  },
  "orig_nbformat": 4,
  "vscode": {
   "interpreter": {
    "hash": "426638ef63aaba0ecee33defcc7f4066d7c3b20487ce62fa4fb59f356cc5c2df"
   }
  }
 },
 "nbformat": 4,
 "nbformat_minor": 2
}
